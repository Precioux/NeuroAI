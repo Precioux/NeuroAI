{
  "cells": [
    {
      "cell_type": "markdown",
      "metadata": {
        "execution": {},
        "id": "vVgkgEro6I-H"
      },
      "source": [
        "<a href=\"https://colab.research.google.com/github/neuromatch/NeuroAI_Course/blob/main/tutorials/W1D2_ComparingTasks/student/W1D2_Tutorial3.ipynb\" target=\"_parent\"><img src=\"https://colab.research.google.com/assets/colab-badge.svg\" alt=\"Open In Colab\"/></a> &nbsp; <a href=\"https://kaggle.com/kernels/welcome?src=https://raw.githubusercontent.com/neuromatch/NeuroAI_Course/main/tutorials/W1D2_ComparingTasks/student/W1D2_Tutorial3.ipynb\" target=\"_parent\"><img src=\"https://kaggle.com/static/images/open-in-kaggle.svg\" alt=\"Open in Kaggle\"/></a>"
      ]
    },
    {
      "cell_type": "markdown",
      "metadata": {
        "execution": {},
        "id": "Hvs7j_J06I-J"
      },
      "source": [
        "# Tutorial 3: Reinforcement learning across temporal scales\n",
        "\n",
        "**Week 1, Day 2: Comparing Tasks**\n",
        "\n",
        "**By Neuromatch Academy**\n",
        "\n",
        "__Content creators:__ Leila Wehbe, Swapnil Kumar, Patrick Mineault, Alex Murphy\n",
        "\n",
        "__Content reviewers:__ Samuele Bolotta, Lily Chamakura, RyeongKyung Yoon, Yizhou Chen, Ruiyi Zhang, Patrick Mineault, Alex Murphy\n",
        "\n",
        "__Production editors:__ Konstantine Tsafatinos, Ella Batty, Spiros Chavlis, Samuele Bolotta, Hlib Solodzhuk, Patrick Mineault, Alex Murphy\n"
      ]
    },
    {
      "cell_type": "markdown",
      "metadata": {
        "execution": {},
        "id": "UKB8NqtC6I-J"
      },
      "source": [
        "----\n",
        "\n",
        "# Tutorial Objectives\n",
        "\n",
        "*Estimated time of tutorial: 30 minutes*\n",
        "\n",
        "By the end of this tutorial, participants will be able to:\n",
        "\n",
        "- Review how a reinforcement learning algorithm can be evaluated\n",
        "- Formulate a simple meta-reinforcement learning framework where an algorithm learns how to learn in different episodes\n",
        "- Investigate learning at different temporal scales\n",
        "\n",
        "Models that can learn how to learn can generalize to new tasks. This tutorial aims to explore generalization from the lens of teaching neural networks how to learn, not just via the transferability of their learned representations from task specifications as we looked at in the other tutorials today. This fresh perspective complements other methods that aim to uncover the ways that models can generalize."
      ]
    },
    {
      "cell_type": "markdown",
      "metadata": {
        "execution": {},
        "id": "kHjl_REj6I-K"
      },
      "source": [
        "# Definitions\n",
        "\n",
        "- **Meta Reinforcement Learning** - Meta-learning is *learning how to learn* and Meta reinforcement learning (Meta-RL) is how reinforcement learning approaches can learn how to solve tasks\n",
        "- **Episode** - Reinforcement Learning algorithms typically run over a sequential series of steps where an agent takes actions in an environment, receiving a reward until a final state is reached. The final state signifies the end of an episode and an **episode** is the resulting sequence of actions, rewards and environment states from the starting state until the final state was reached\n",
        "- **Bandit Task** - A one-armed bandit is a slot machine like you would see in a casino. Multi-armed bandits are multiple instances of these machines and generalized into a computer science concept that represents multiple choices that can be made (which arm of the slot machine to pull) where each bandit has a different reward distribution (e.g. payout rate). The generalization of this approach is applicable in many settings, way outside of the gambling world\n",
        "- **Regret** -  The difference in reward between the chosen strategy and the reward that could have been obtained by selecting the best possible action (explained in more detail in the tutorial)"
      ]
    },
    {
      "cell_type": "code",
      "execution_count": null,
      "metadata": {
        "cellView": "form",
        "execution": {},
        "tags": [
          "remove-input"
        ],
        "id": "Ddy_82696I-K"
      },
      "outputs": [],
      "source": [
        "# @title Tutorial slides\n",
        "# @markdown These are the slides for the videos in all tutorials today\n",
        "\n",
        "from IPython.display import IFrame\n",
        "from ipywidgets import widgets\n",
        "out = widgets.Output()\n",
        "\n",
        "link_id = \"x4y79\"\n",
        "\n",
        "with out:\n",
        "    print(f\"If you want to download the slides: https://osf.io/download/{link_id}/\")\n",
        "    display(IFrame(src=f\"https://mfr.ca-1.osf.io/render?url=https://osf.io/{link_id}/?direct%26mode=render%26action=download%26mode=render\", width=730, height=410))\n",
        "display(out)"
      ]
    },
    {
      "cell_type": "markdown",
      "metadata": {
        "execution": {},
        "jp-MarkdownHeadingCollapsed": true,
        "id": "Vr-tXdiW6I-L"
      },
      "source": [
        "---\n",
        "# Setup\n",
        "\n"
      ]
    },
    {
      "cell_type": "markdown",
      "metadata": {
        "execution": {},
        "id": "Y84B7Bbv6I-M"
      },
      "source": [
        "##  Install and import feedback gadget\n"
      ]
    },
    {
      "cell_type": "code",
      "execution_count": 1,
      "metadata": {
        "cellView": "form",
        "execution": {},
        "tags": [
          "hide-input"
        ],
        "id": "c4CC7XZQ6I-M",
        "outputId": "6d032262-d9a0-49a7-b5d9-25368d6306d6",
        "colab": {
          "base_uri": "https://localhost:8080/"
        }
      },
      "outputs": [
        {
          "output_type": "stream",
          "name": "stdout",
          "text": [
            "  Preparing metadata (setup.py) ... \u001b[?25l\u001b[?25hdone\n",
            "  Preparing metadata (setup.py) ... \u001b[?25l\u001b[?25hdone\n",
            "\u001b[2K   \u001b[90m━━━━━━━━━━━━━━━━━━━━━━━━━━━━━━━━━━━━━━━━\u001b[0m \u001b[32m1.6/1.6 MB\u001b[0m \u001b[31m20.3 MB/s\u001b[0m eta \u001b[36m0:00:00\u001b[0m\n",
            "\u001b[?25h  Building wheel for vibecheck (setup.py) ... \u001b[?25l\u001b[?25hdone\n",
            "  Building wheel for datatops (setup.py) ... \u001b[?25l\u001b[?25hdone\n"
          ]
        }
      ],
      "source": [
        "# @title Install and import feedback gadget\n",
        "\n",
        "!pip install vibecheck requests matplotlib ipython numpy scipy --quiet\n",
        "\n",
        "from vibecheck import DatatopsContentReviewContainer\n",
        "def content_review(notebook_section: str):\n",
        "    return DatatopsContentReviewContainer(\n",
        "        \"\",  # No text prompt\n",
        "        notebook_section,\n",
        "        {\n",
        "            \"url\": \"https://pmyvdlilci.execute-api.us-east-1.amazonaws.com/klab\",\n",
        "            \"name\": \"neuromatch_neuroai\",\n",
        "            \"user_key\": \"wb2cxze8\",\n",
        "        },\n",
        "    ).render()\n",
        "\n",
        "\n",
        "feedback_prefix = \"W1D2_T3\""
      ]
    },
    {
      "cell_type": "code",
      "execution_count": 2,
      "metadata": {
        "cellView": "form",
        "execution": {},
        "tags": [
          "remove-input"
        ],
        "id": "PjdsFws36I-M"
      },
      "outputs": [],
      "source": [
        "# @title Import dependencies\n",
        "\n",
        "# Standard library imports\n",
        "import logging\n",
        "import hashlib\n",
        "import os\n",
        "\n",
        "# Third-party imports\n",
        "import requests\n",
        "import matplotlib.pyplot as plt\n",
        "import matplotlib.colors as mcolors\n",
        "import matplotlib.cm as cm\n",
        "from IPython.display import IFrame, display, Image\n",
        "import numpy as np\n",
        "\n",
        "import numpy as np\n",
        "import matplotlib.pyplot as plt\n",
        "import scipy\n",
        "\n",
        "import numpy as np\n",
        "import matplotlib.pyplot as plt\n",
        "from ipywidgets import interact, FloatSlider, Button, Output\n",
        "\n",
        "# Set up logging\n",
        "logging.basicConfig(level=logging.INFO)"
      ]
    },
    {
      "cell_type": "code",
      "execution_count": 3,
      "metadata": {
        "cellView": "form",
        "execution": {},
        "tags": [
          "hide-input"
        ],
        "id": "orU8rtrW6I-M"
      },
      "outputs": [],
      "source": [
        "# @title Figure settings\n",
        "\n",
        "logging.getLogger('matplotlib.font_manager').disabled = True\n",
        "\n",
        "%matplotlib inline\n",
        "%config InlineBackend.figure_format = 'retina' # perform high definition rendering for images and plots\n",
        "plt.style.use(\"https://raw.githubusercontent.com/NeuromatchAcademy/course-content/main/nma.mplstyle\")"
      ]
    },
    {
      "cell_type": "code",
      "execution_count": 4,
      "metadata": {
        "cellView": "form",
        "execution": {},
        "id": "8GS_xzBB6I-M"
      },
      "outputs": [],
      "source": [
        "# @title Plotting functions\n",
        "# @markdown\n",
        "\n",
        "def plot_ucb(beliefs, lb, ub, selected_arms, cumulative_reward, cum_regret, expected_rewards):\n",
        "    \"\"\"\n",
        "    Plot the results of the multi-armed bandit task.\n",
        "    \"\"\"\n",
        "    with plt.xkcd():\n",
        "        num_trials = len(beliefs)\n",
        "        fig, (ax1, ax2, ax3, ax4) = plt.subplots(4, 1, figsize=(8, 12))\n",
        "\n",
        "        ax1.plot(beliefs[:, 0], label='Left Arm')\n",
        "        ax1.plot(beliefs[:, 1], label='Right Arm')\n",
        "        ax1.fill_between(np.arange(num_trials), lb[:, 0], ub[:, 0], color='C0', alpha=0.1)\n",
        "        ax1.fill_between(np.arange(num_trials), lb[:, 1], ub[:, 1], color='C1', alpha=0.1)\n",
        "\n",
        "        ax1.plot(expected_rewards[:, 0], linestyle='--', color='C0', alpha=0.5)\n",
        "        ax1.plot(expected_rewards[:, 1], linestyle='--', color='C1', alpha=0.5)\n",
        "        ax1.set_xlabel('Time')\n",
        "        ax1.set_ylabel('Belief')\n",
        "        ax1.legend()\n",
        "        ax1.set_title(\"Agent's Belief about Reward Probabilities\")\n",
        "        ax1.set_ylim(0, 1)\n",
        "\n",
        "        ax2.plot(cumulative_reward)\n",
        "        ax2.set_xlabel('Time')\n",
        "        ax2.set_ylabel('Cumulative Reward')\n",
        "        ax2.set_title('Accumulated Reward')\n",
        "\n",
        "        ax3.plot(cum_regret)\n",
        "        ax3.set_xlabel('Time')\n",
        "        ax3.set_ylabel('Cumulative Regret')\n",
        "        ax3.set_title('Cumulative Regret')\n",
        "\n",
        "        ax4.plot(selected_arms)\n",
        "        ax4.set_yticks([0, 1])\n",
        "        ax4.set_xlabel('Time')\n",
        "        ax4.set_title(\"Agent's Selection\")\n",
        "        ax4.set_yticklabels(['Left', 'Right'])\n",
        "        plt.tight_layout()\n",
        "        plt.show()"
      ]
    },
    {
      "cell_type": "markdown",
      "metadata": {
        "execution": {},
        "id": "q_sN2SGn6I-M"
      },
      "source": [
        "---\n",
        "# Section 1: An Introduction to POMDPs\n",
        "\n",
        "Before proceeding with the coding tasks, we've included a video explaining the concept of Partially-Observable Markov Decision Processes (POMDPs), which is a powerful mathematical model that can unify sequential decision making processes in neuroscience and AI. We feel it's useful to give you this information now to set you up a little better to think about the broader framework of applicability of RL."
      ]
    },
    {
      "cell_type": "code",
      "execution_count": 5,
      "metadata": {
        "execution": {},
        "id": "Ws6bjleo6I-N",
        "outputId": "56667dd9-3e41-4073-e9ff-5473a86649ea",
        "colab": {
          "base_uri": "https://localhost:8080/",
          "height": 581,
          "referenced_widgets": [
            "4698a936070340d2aa272b0d4de68ed3",
            "c1a353b7130243d7b483fdf4b9535c0e",
            "5e4ae4ad51a84fbcb695ee9e9ead668a",
            "a0e8e50998884ac1a6c3231e6b28b5fd",
            "9aae90ebadbe4b369e99121eed3ca3c1",
            "8ca2282c3f6e431f9a0039b18276dfc9"
          ]
        }
      },
      "outputs": [
        {
          "output_type": "display_data",
          "data": {
            "text/plain": [
              "Tab(children=(Output(), Output()), _titles={'0': 'Youtube', '1': 'Bilibili'})"
            ],
            "application/vnd.jupyter.widget-view+json": {
              "version_major": 2,
              "version_minor": 0,
              "model_id": "4698a936070340d2aa272b0d4de68ed3"
            }
          },
          "metadata": {}
        }
      ],
      "source": [
        "# @title Video 1: Intro to POMDPs\n",
        "\n",
        "from ipywidgets import widgets\n",
        "from IPython.display import YouTubeVideo\n",
        "from IPython.display import IFrame\n",
        "from IPython.display import display\n",
        "\n",
        "\n",
        "class PlayVideo(IFrame):\n",
        "  def __init__(self, id, source, page=1, width=400, height=300, **kwargs):\n",
        "    self.id = id\n",
        "    if source == 'Bilibili':\n",
        "      src = f'https://player.bilibili.com/player.html?bvid={id}&page={page}'\n",
        "    elif source == 'Osf':\n",
        "      src = f'https://mfr.ca-1.osf.io/render?url=https://osf.io/download/{id}/?direct%26mode=render'\n",
        "    super(PlayVideo, self).__init__(src, width, height, **kwargs)\n",
        "\n",
        "\n",
        "def display_videos(video_ids, W=400, H=300, fs=1):\n",
        "  tab_contents = []\n",
        "  for i, video_id in enumerate(video_ids):\n",
        "    out = widgets.Output()\n",
        "    with out:\n",
        "      if video_ids[i][0] == 'Youtube':\n",
        "        video = YouTubeVideo(id=video_ids[i][1], width=W,\n",
        "                             height=H, fs=fs, rel=0)\n",
        "        print(f'Video available at https://youtube.com/watch?v={video.id}')\n",
        "      else:\n",
        "        video = PlayVideo(id=video_ids[i][1], source=video_ids[i][0], width=W,\n",
        "                          height=H, fs=fs, autoplay=False)\n",
        "        if video_ids[i][0] == 'Bilibili':\n",
        "          print(f'Video available at https://www.bilibili.com/video/{video.id}')\n",
        "        elif video_ids[i][0] == 'Osf':\n",
        "          print(f'Video available at https://osf.io/{video.id}')\n",
        "      display(video)\n",
        "    tab_contents.append(out)\n",
        "  return tab_contents\n",
        "\n",
        "\n",
        "video_ids = [('Youtube', 'YDOhHzVUpGU'), ('Bilibili', 'BV1bbVjzyE34')]\n",
        "tab_contents = display_videos(video_ids, W=854, H=480)\n",
        "tabs = widgets.Tab()\n",
        "tabs.children = tab_contents\n",
        "for i in range(len(tab_contents)):\n",
        "  tabs.set_title(i, video_ids[i][0])\n",
        "display(tabs)"
      ]
    },
    {
      "cell_type": "code",
      "execution_count": null,
      "metadata": {
        "cellView": "form",
        "execution": {},
        "id": "GKYulm2z6I-N"
      },
      "outputs": [],
      "source": [
        "# @title Submit your feedback\n",
        "content_review(f\"{feedback_prefix}_pomdps\")"
      ]
    },
    {
      "cell_type": "markdown",
      "metadata": {
        "execution": {},
        "id": "GSOzM0_x6I-N"
      },
      "source": [
        "---\n",
        "# Section 2: Reinforcement learning across temporal scales\n",
        "\n",
        "In this section we will review the basics of reinforcement learning as well as introducing meta-reinforcement learning (Meta-RL). For that, we will study how \"learning to learn\" is implemented in the context of a binary bandit task and how learning is affected by changing temporal scales."
      ]
    },
    {
      "cell_type": "code",
      "execution_count": 6,
      "metadata": {
        "cellView": "form",
        "execution": {},
        "tags": [
          "remove-input"
        ],
        "id": "VSe9eKVr6I-N",
        "outputId": "05db23fc-0f6d-424d-d201-145d81011f4d",
        "colab": {
          "base_uri": "https://localhost:8080/",
          "height": 581,
          "referenced_widgets": [
            "6de3121020204fc88fa68f1530e388d2",
            "7964039f1af9448fa79a277dbeb8fd1a",
            "8ee0662d8ffb4f0eb6cada351e8cfc44",
            "cafe9c6940df41c3ae1f91ff8d6bf6dc",
            "0a174e5812924a9da543388c35c2b7ff",
            "0aa5d4bcec694496a94e743e8b8c3bc5"
          ]
        }
      },
      "outputs": [
        {
          "output_type": "display_data",
          "data": {
            "text/plain": [
              "Tab(children=(Output(), Output()), _titles={'0': 'Youtube', '1': 'Bilibili'})"
            ],
            "application/vnd.jupyter.widget-view+json": {
              "version_major": 2,
              "version_minor": 0,
              "model_id": "6de3121020204fc88fa68f1530e388d2"
            }
          },
          "metadata": {}
        }
      ],
      "source": [
        "# @title Video 2: Two-armed bandit\n",
        "\n",
        "from ipywidgets import widgets\n",
        "from IPython.display import YouTubeVideo\n",
        "from IPython.display import IFrame\n",
        "from IPython.display import display\n",
        "\n",
        "\n",
        "class PlayVideo(IFrame):\n",
        "  def __init__(self, id, source, page=1, width=400, height=300, **kwargs):\n",
        "    self.id = id\n",
        "    if source == 'Bilibili':\n",
        "      src = f'https://player.bilibili.com/player.html?bvid={id}&page={page}'\n",
        "    elif source == 'Osf':\n",
        "      src = f'https://mfr.ca-1.osf.io/render?url=https://osf.io/download/{id}/?direct%26mode=render'\n",
        "    super(PlayVideo, self).__init__(src, width, height, **kwargs)\n",
        "\n",
        "\n",
        "def display_videos(video_ids, W=400, H=300, fs=1):\n",
        "  tab_contents = []\n",
        "  for i, video_id in enumerate(video_ids):\n",
        "    out = widgets.Output()\n",
        "    with out:\n",
        "      if video_ids[i][0] == 'Youtube':\n",
        "        video = YouTubeVideo(id=video_ids[i][1], width=W,\n",
        "                             height=H, fs=fs, rel=0)\n",
        "        print(f'Video available at https://youtube.com/watch?v={video.id}')\n",
        "      else:\n",
        "        video = PlayVideo(id=video_ids[i][1], source=video_ids[i][0], width=W,\n",
        "                          height=H, fs=fs, autoplay=False)\n",
        "        if video_ids[i][0] == 'Bilibili':\n",
        "          print(f'Video available at https://www.bilibili.com/video/{video.id}')\n",
        "        elif video_ids[i][0] == 'Osf':\n",
        "          print(f'Video available at https://osf.io/{video.id}')\n",
        "      display(video)\n",
        "    tab_contents.append(out)\n",
        "  return tab_contents\n",
        "\n",
        "\n",
        "video_ids = [('Youtube', '4fBU0ALeFKk'), ('Bilibili', 'BV1KM4m1m7B3')]\n",
        "tab_contents = display_videos(video_ids, W=854, H=480)\n",
        "tabs = widgets.Tab()\n",
        "tabs.children = tab_contents\n",
        "for i in range(len(tab_contents)):\n",
        "  tabs.set_title(i, video_ids[i][0])\n",
        "display(tabs)"
      ]
    },
    {
      "cell_type": "code",
      "execution_count": 7,
      "metadata": {
        "cellView": "form",
        "execution": {},
        "id": "W8j7sdkp6I-N",
        "outputId": "cf240a12-6056-46c2-cea0-f034f70220e4",
        "colab": {
          "base_uri": "https://localhost:8080/",
          "height": 62,
          "referenced_widgets": [
            "cd1076a4514b42c599f012389ae57632",
            "73afed5593b3455b99bc073a3717c2b8",
            "eebcdd49ac964292ade6e04b9c8939b7",
            "1df5d60a7b3e4564b234dfe53720095d",
            "4d21ca5608ab4eb1931c6eca3527f251",
            "585540d220664903b81ebee2a16fa936",
            "6d14de399f07452b976bbc74a544bf07",
            "831ad21ba85a49e7bf852a80dcb62291",
            "64caa09f6ed141d6a820dff272cac7bc",
            "b3a3dbaf583c4b03a772eda62a670f3a",
            "ae85ca36929c4e8c9374197473190b38",
            "06affd8f081342ecbd2db4d198ba2392",
            "1259ca81d7ea453283a93699661df842",
            "c79494d107754c2daffb294b01014d7a",
            "99598d2118e9449dabd41b7fe7539deb",
            "9e5d35913c544688a774bafcf315182b",
            "a2918726b1cb4b6e9568d5b3ed430a0e",
            "bc2499bf500e456ca68904791ba2ed4a",
            "ef7ffceb02234b3a95a82df6a2dd17cd",
            "f6e6c4c490e247908cda161e4998e7cd",
            "54a1c9bbc7cb4c5db888bdd4df39e48d",
            "eef294391e5c45d78d6d8be87b6fb36a",
            "30272e66b373412fb26d2fb1d8f4f412",
            "6dfbbc1868274cea98a69894b4e9da28",
            "31fc90e84c184c229371759c261a34f4",
            "27facc62100547e994532c7fa635db65"
          ]
        }
      },
      "outputs": [
        {
          "output_type": "display_data",
          "data": {
            "text/plain": [
              "VBox(children=(VBox(children=(HBox(children=(Button(description='🙂', layout=Layout(height='auto', padding='0.5…"
            ],
            "application/vnd.jupyter.widget-view+json": {
              "version_major": 2,
              "version_minor": 0,
              "model_id": "cd1076a4514b42c599f012389ae57632"
            }
          },
          "metadata": {}
        }
      ],
      "source": [
        "# @title Submit your feedback\n",
        "content_review(f\"{feedback_prefix}_two_armed_bandit\")"
      ]
    },
    {
      "cell_type": "markdown",
      "metadata": {
        "execution": {},
        "id": "D4LxzjyZ6I-N"
      },
      "source": [
        "## Reinforcement learning review\n",
        "\n",
        "Reinforcement learning is a learning paradigm where an agent interacts with an environment and learns a policy to maximize its cumulative rewards. We focus here on a simple environment: a binary \"two-armed bandit\" (Figure A), a name for a gambling machine found in casinos (because it steals your money). In this task, at each opportunity, the agent chooses arm $i$ (either Left $L$ or Right $R$) and gets a reward with probability $p_i$ that is unknown to the agent. On each trial, only one of the arms will return a reward, so $p_L + p_R = 1$ (which the agent does know).\n",
        "\n",
        "<img src=\"https://github.com/neuromatch/NeuroAI_Course/blob/main/tutorials/W1D2_ComparingTasks/static/two_armed_bandit.png?raw=true\" width=600 />\n",
        "\n",
        "*Figure A. Example of binary bandit. The left arm has a probability $p_L$ of giving a reward, and the right arm a probability $p_R = 1-p_L$ of giving a reward. At a given trial, the agent pulls one of the arms and receives a reward with the corresponding probability.*\n",
        "\n",
        "The aim of the agent is to maximize its cumulative reward over a series of trials (e.g., 100 trials). This would correspond to correctly identifying the arm that returns more reward (has a higher probability) and choosing it for subsequent trials once it's sure about its choice. Thus, while solving this problem, the agent will need to balance exploration and exploitation. At a high level, more exploration is useful when the agent is not certain of which arm has more reward, and once the agent is more certain, it is more advantageous to exploit the arm that has a higher probability of reward.\n",
        "\n",
        "Different methods are used to solve this problem. An optimal method to solve some instances of bandit problems is [Gittin indices](https://www.statslab.cam.ac.uk/~rrw1/oc/ocgittins.pdf). This method incorporates the estimated rewards and their uncertainty, and involves solving an expensive dynamical programming problem. The simplest method is [epsilon greedy](https://medium.com/@ym1942/exploring-multi-armed-bandit-problem-epsilon-greedy-epsilon-decreasing-ucb-and-thompson-02ad0ec272ee), where exploration and exploitation are balanced by choosing a random action with probability $\\epsilon$ and the best known action with probability $1-\\epsilon$. In the [Upper Confidence Bound (UCB)](https://medium.com/@ym1942/exploring-multi-armed-bandit-problem-epsilon-greedy-epsilon-decreasing-ucb-and-thompson-02ad0ec272ee), the choice of action also incorporates both the estimated rewards and the estimated uncertainty of the rewards. In [Thompson sampling](https://medium.com/@ym1942/exploring-multi-armed-bandit-problem-epsilon-greedy-epsilon-decreasing-ucb-and-thompson-02ad0ec272ee), the choice is made according to a Bayesian model that estimates the posterior probabilities of the reward."
      ]
    },
    {
      "cell_type": "markdown",
      "metadata": {
        "execution": {},
        "id": "ZD2Ci91a6I-N"
      },
      "source": [
        "### Discussion point 1\n",
        "Imagine training an RL algorithm on the binary bandit problem above, with a method that depends on uncertainty about the reward probabilities (like UCB). Assume that $p_L=0.05$ and $p_R=0.95$. How rapidly will the agent become certain of its estimates of the expected reward of each arm? Do you expect the exploration phase to take a long or a short time?\n",
        "\n",
        "What about the case when $p_L=0.51$ and $p_R=0.49$? How rapidly will the agent become certain of its estimates, and how will that affect the exploration phase?"
      ]
    },
    {
      "cell_type": "markdown",
      "metadata": {
        "execution": {},
        "id": "3MzuzNN_6I-N"
      },
      "source": [
        "[*Click for solution*](https://github.com/neuromatch/NeuroAI_Course/tree/main/tutorials/W1D2_ComparingTasks/solutions/W1D2_Tutorial3_Solution_d48fc54f.py)\n",
        "\n"
      ]
    },
    {
      "cell_type": "code",
      "execution_count": null,
      "metadata": {
        "cellView": "form",
        "execution": {},
        "id": "6ILcoMit6I-N"
      },
      "outputs": [],
      "source": [
        "# @title Submit your feedback\n",
        "content_review(f\"{feedback_prefix}_Discussion_Point_1\")"
      ]
    },
    {
      "cell_type": "markdown",
      "metadata": {
        "execution": {},
        "id": "S5Ty7kkb6I-N"
      },
      "source": [
        "### Evaluating decision-making strategies\n",
        "\n",
        "One key metric for evaluating an agent's strategies is cumulative regret. Regret at a specific time step refers to the difference in reward between the chosen strategy and the reward that could have been obtained by selecting the best possible action. The cumulative regret refers to the sum of the regret from the start of the episode until the current time step $T$. For our example of binary bandit, it corresponds to:\n",
        "\n",
        "$$R(T) = \\sum_{t = 1}^T (p^* - \\mathbb{E}(p_{a_t})),$$\n",
        "\n",
        "where $p^*$ is the probability of the reward for the best arm, i.e., max($p_L$, $p_r$). $\\mathbb{E}(p_{a_t})$ corresponds to the expected probability of reward for the action that was chosen at the previous time $t$."
      ]
    },
    {
      "cell_type": "markdown",
      "metadata": {
        "execution": {},
        "id": "wOgVG4Km6I-N"
      },
      "source": [
        "### Discussion point 2\n",
        "\n",
        "Consider the setting where $p_L=0.25$ and $p_R=0.75$. Let's derive best and worst-case cumulative regret over 100 trials of one episode.\n",
        "\n",
        "- Plot the lower bound of the cumulative regret, i.e. the cumulative regret in the best-case scenario where the agent chooses the optimal arm at every trial, plotted against the number of trials.\n",
        "- In the same figure, plot the upper bound of the cumulative regret, i.e. the cumulative regret in the worst-case scenario where the agent chooses the non-optimal arm at every trial, plotted against the number of trials."
      ]
    },
    {
      "cell_type": "code",
      "execution_count": 9,
      "metadata": {
        "execution": {},
        "id": "gocYU_CT6I-N",
        "outputId": "2bfe9db1-0bcb-4c61-f77f-230eac4a68b0",
        "colab": {
          "base_uri": "https://localhost:8080/",
          "height": 592
        }
      },
      "outputs": [
        {
          "output_type": "display_data",
          "data": {
            "text/plain": [
              "<Figure size 800x600 with 1 Axes>"
            ],
            "image/png": "[encoded data removed]"
          },
          "metadata": {
            "image/png": {
              "width": 775,
              "height": 575
            }
          }
        }
      ],
      "source": [
        "t = np.arange(1,101) # Array representing trials from 1 to 100\n",
        "p_L = 0.25\n",
        "p_R = 0.75\n",
        "\n",
        "# In the best case scenario, the agent chooses the best arm every trial,\n",
        "# leading to a cumulative regret of 0.\n",
        "cr_best = np.zeros(100)\n",
        "\n",
        "# In the worst-case scenario, the agent chooses the worst arm every trial,\n",
        "# leading to per trial regret of the best arm's reward - the worst arm's reward\n",
        "per_trial_regret = p_R - p_L\n",
        "regret_worst = per_trial_regret * np.ones(100)\n",
        "cr_worst = np.cumsum(regret_worst)\n",
        "\n",
        "with plt.xkcd():\n",
        "    plt.plot(t, cr_best, label = 'best case')\n",
        "    plt.plot(t, cr_worst, label = 'worst case')\n",
        "\n",
        "    plt.xlabel('trial')\n",
        "    plt.ylabel('cumulative regret')\n",
        "    plt.legend()"
      ]
    },
    {
      "cell_type": "markdown",
      "metadata": {
        "execution": {},
        "id": "DMZOWy1m6I-N"
      },
      "source": [
        "[*Click for solution*](https://github.com/neuromatch/NeuroAI_Course/tree/main/tutorials/W1D2_ComparingTasks/solutions/W1D2_Tutorial3_Solution_62d8e960.py)\n",
        "\n",
        "*Example output:*\n",
        "\n",
        "<img alt='Solution hint' align='left' width=775.0 height=575.0 src=https://raw.githubusercontent.com/neuromatch/NeuroAI_Course/main/tutorials/W1D2_ComparingTasks/static/W1D2_Tutorial3_Solution_62d8e960_0.png>\n",
        "\n"
      ]
    },
    {
      "cell_type": "code",
      "execution_count": null,
      "metadata": {
        "cellView": "form",
        "execution": {},
        "id": "De6AXI5F6I-N"
      },
      "outputs": [],
      "source": [
        "# @title Submit your feedback\n",
        "content_review(f\"{feedback_prefix}_Discussion_Point_2\")"
      ]
    },
    {
      "cell_type": "markdown",
      "metadata": {
        "execution": {},
        "id": "oqm_2Lh_6I-O"
      },
      "source": [
        "## Demo 1: Binary bandit\n",
        "\n",
        "In this demo, we will simulate the binary bandit task to verify our intuitions. We'll\n",
        "use the Bayesian UCB (upper confidence bound) algorithm to solve the task. It keeps track of the posterior distribution of the reward of each arm and chooses the arm with the highest upper confidence bound. Thus, it will naturally balance exploration and exploitation: it will explore if the uncertainty is high and exploit if the uncertainty is low.\n",
        "\n",
        "The Bayesian UCB algorithm works as follows:\n",
        "\n",
        "1. Model the reward distribution of each arm as a Beta distribution. We start with a uniform prior for each arm, a Beta distribution with parameters $\\alpha=1$ and $\\beta=1$.\n",
        "2. Pick the arm with the highest upper confidence bound, for example, the arm with the highest 95% confidence interval.\n",
        "3. Observe the reward.\n",
        "4. Update the posterior distribution of the reward of the chosen arm.\n",
        "5. Repeat steps 2-4 for a number of trials.\n",
        "\n",
        "The posterior of the reward at time $t$ for arm $i$ is given by:\n",
        "\n",
        "$$\\text{Beta}(\\alpha = 1 + \\#\\text{non rewarded trials}, \\: \\beta = 1 + \\#\\text{rewarded trials})$$"
      ]
    },
    {
      "cell_type": "code",
      "execution_count": 10,
      "metadata": {
        "execution": {},
        "id": "A977GsCy6I-O",
        "outputId": "250b7a2b-b05b-4390-89f2-775cdfe3cee2",
        "colab": {
          "base_uri": "https://localhost:8080/",
          "height": 1000,
          "referenced_widgets": [
            "700ae09a176c46fe81a04a28b4121ae7",
            "39a6bde43bad4092ba3758c7ecd2f9fa",
            "c2560a04645247df89b98094b9fcd13f",
            "26d5ab593e4549f3b104ce95afe42642",
            "f10f2536ebf84645b3ec1f574bd337f2",
            "b2c97d47853c491e95f2da3681523067",
            "978a1257b87347039762acc4a3125654",
            "5fd7e61045804969bfa910ce0279bc43",
            "b79d2d1d49054e68b5dadc49d59d4eef",
            "a155a05a7cc54dada3db922891e92e46",
            "dec14e7fe84e4d5b8ab41db7ef810089"
          ]
        }
      },
      "outputs": [
        {
          "output_type": "display_data",
          "data": {
            "text/plain": [
              "FloatSlider(value=0.4, description='Left Arm Reward Probability', max=1.0, step=0.01)"
            ],
            "application/vnd.jupyter.widget-view+json": {
              "version_major": 2,
              "version_minor": 0,
              "model_id": "700ae09a176c46fe81a04a28b4121ae7"
            }
          },
          "metadata": {}
        },
        {
          "output_type": "display_data",
          "data": {
            "text/plain": [
              "FloatSlider(value=0.6, description='Right Arm Reward Probability', max=1.0, step=0.01)"
            ],
            "application/vnd.jupyter.widget-view+json": {
              "version_major": 2,
              "version_minor": 0,
              "model_id": "26d5ab593e4549f3b104ce95afe42642"
            }
          },
          "metadata": {}
        },
        {
          "output_type": "display_data",
          "data": {
            "text/plain": [
              "Button(description='Simulate!', style=ButtonStyle())"
            ],
            "application/vnd.jupyter.widget-view+json": {
              "version_major": 2,
              "version_minor": 0,
              "model_id": "978a1257b87347039762acc4a3125654"
            }
          },
          "metadata": {}
        },
        {
          "output_type": "display_data",
          "data": {
            "text/plain": [
              "Output()"
            ],
            "application/vnd.jupyter.widget-view+json": {
              "version_major": 2,
              "version_minor": 0,
              "model_id": "a155a05a7cc54dada3db922891e92e46"
            }
          },
          "metadata": {}
        }
      ],
      "source": [
        "class BinaryBandit:\n",
        "    \"\"\"\n",
        "    A class to represent a binary bandit.\n",
        "    \"\"\"\n",
        "    def __init__(self, p):\n",
        "        self.p = p\n",
        "        self.t = 0\n",
        "\n",
        "    def pull(self):\n",
        "        reward = 1 if np.random.random() < self.p else 0\n",
        "        return reward\n",
        "\n",
        "    def step(self):\n",
        "        self.t += 1\n",
        "        pass\n",
        "\n",
        "    def expected_reward(self):\n",
        "        return self.p\n",
        "\n",
        "\n",
        "def bayesian_ucb(bandits, num_trials, c=0.95):\n",
        "    \"\"\"\n",
        "    Perform Bayesian UCB on a set of binary bandits\n",
        "\n",
        "    Parameters:\n",
        "    bandits (list): A list of binary bandits\n",
        "    num_trials (int): The number of trials to run\n",
        "    c (float): The confidence level for the UCB\n",
        "    \"\"\"\n",
        "    num_bandits = len(bandits)\n",
        "    rewards = np.zeros(num_trials)\n",
        "    beliefs = np.ones((num_trials, num_bandits))\n",
        "    ucb = np.ones((num_trials, num_bandits))\n",
        "    lcb = np.ones((num_trials, num_bandits))\n",
        "    selected_arms = np.zeros(num_trials)\n",
        "    regrets = np.zeros(num_trials)\n",
        "    expected_rewards = np.zeros((num_trials, num_bandits))\n",
        "\n",
        "    per_arm_rewards = np.zeros(num_bandits)\n",
        "    num_pulls = np.zeros(num_bandits)\n",
        "\n",
        "    for t in range(num_trials):\n",
        "        for bandit in bandits:\n",
        "            bandit.step()\n",
        "        successes = per_arm_rewards + 1\n",
        "        failures = num_pulls - per_arm_rewards + 1\n",
        "\n",
        "        ucb_values = scipy.stats.beta.ppf(c, successes, failures)\n",
        "        lcb_values = scipy.stats.beta.ppf(1 - c, successes, failures)\n",
        "\n",
        "        selected_arm = np.argmax(ucb_values)\n",
        "        reward = bandits[selected_arm].pull()\n",
        "        rewards[t] = reward\n",
        "        per_arm_rewards[selected_arm] += reward\n",
        "        num_pulls[selected_arm] += 1\n",
        "        regret = np.max([bandit.expected_reward() for bandit in bandits]) - bandits[selected_arm].expected_reward()\n",
        "\n",
        "        beliefs[t] = successes / (successes + failures)\n",
        "        ucb[t] = ucb_values\n",
        "        lcb[t] = lcb_values\n",
        "        regrets[t] = regret\n",
        "\n",
        "        selected_arms[t] = selected_arm\n",
        "        expected_rewards[t] = np.array([bandit.expected_reward() for bandit in bandits])\n",
        "\n",
        "    return rewards, expected_rewards, selected_arms, beliefs, lcb, ucb, np.cumsum(regrets)\n",
        "\n",
        "def simulate(p_L, p_R, num_trials=100):\n",
        "    bandits = [BinaryBandit(p_L), BinaryBandit(p_R)]\n",
        "    rewards, expected_rewards, selected_arms, beliefs, lb, ub, cum_regret = bayesian_ucb(bandits, num_trials)\n",
        "    cumulative_reward = np.cumsum(rewards)\n",
        "\n",
        "    plot_ucb(beliefs, lb, ub, selected_arms, cumulative_reward, cum_regret, expected_rewards)\n",
        "\n",
        "p_L_slider = FloatSlider(min=0, max=1, step=0.01, value=0.4, description='Left Arm Reward Probability')\n",
        "p_R_slider = FloatSlider(min=0, max=1, step=0.01, value=0.6, description='Right Arm Reward Probability')\n",
        "simulate_button = Button(description='Simulate!')\n",
        "output = Output()\n",
        "\n",
        "def on_button_clicked(b):\n",
        "    with output:\n",
        "        output.clear_output()\n",
        "        simulate(p_L_slider.value, p_R_slider.value)\n",
        "\n",
        "simulate_button.on_click(on_button_clicked)\n",
        "\n",
        "display(p_L_slider, p_R_slider, simulate_button, output)"
      ]
    },
    {
      "cell_type": "markdown",
      "metadata": {
        "execution": {},
        "id": "bO90bNKJ6I-O"
      },
      "source": [
        "Try the demo with two very different probabilities ($p_L=0.05$ and $p_R=0.95$) and two similar probabilities ($p_L=0.51$ and $p_R=0.49$). Does this confirm the intuition you had in the previous discussion point?"
      ]
    },
    {
      "cell_type": "code",
      "execution_count": null,
      "metadata": {
        "cellView": "form",
        "execution": {},
        "id": "T0oAIYYL6I-O"
      },
      "outputs": [],
      "source": [
        "# @title Submit your feedback\n",
        "content_review(f\"{feedback_prefix}_Demo\")"
      ]
    },
    {
      "cell_type": "markdown",
      "metadata": {
        "execution": {},
        "id": "oBT__XhV6I-O"
      },
      "source": [
        "## A fixed agent in a changing world\n",
        "\n",
        "In the previous demo, we saw that the Bayesian UCB algorithm can solve the binary bandit task, exhibiting relatively low regret. However, the agent is fixed. In a more complex environment, the agent may need to adapt to changes. For example, the probabilities of the rewards of the arms might change over time.\n",
        "\n",
        "Let's see what happens with the Bayesian UCB algorithm when the probabilities of the rewards of the arms change over time. We will simulate a scenario where the probabilities of the rewards of the arms change after 50 trials. Whereas for the first 50 trials, the right arm will be most rewarded, we'll switch that from trial 51-100 onwards, then back again on trial 101-150, and so on."
      ]
    },
    {
      "cell_type": "code",
      "execution_count": 11,
      "metadata": {
        "execution": {},
        "id": "mpkoOgjE6I-O",
        "outputId": "0e2a27b9-a18a-4983-f258-a52652872fbf",
        "colab": {
          "base_uri": "https://localhost:8080/",
          "height": 111,
          "referenced_widgets": [
            "954280dd9b5c4c2bb287fe069203b342",
            "36439e19e02b4561a668c154152a3846",
            "dc9e3c27dbcc4dde95b825888af69c6d",
            "0d2272ad48b94131bc87f5261454c7d6",
            "f4b015525abd4983a0884fe1fe412048",
            "9a6eff1df7c242608fa83d6e779ac8b2",
            "d1cfd24a360b451888c59a0ea2ecc606",
            "0693964931f1462195411116f27380f8",
            "243d0026a5e249bfa7b633f1adbf3dc9",
            "846b079124654a2180c472a8e9ec5372",
            "917b2498b2c648bb9aa6da1aa73c5b98"
          ]
        }
      },
      "outputs": [
        {
          "output_type": "display_data",
          "data": {
            "text/plain": [
              "FloatSlider(value=0.2, description='Left Arm Reward Probability', max=1.0, step=0.01)"
            ],
            "application/vnd.jupyter.widget-view+json": {
              "version_major": 2,
              "version_minor": 0,
              "model_id": "954280dd9b5c4c2bb287fe069203b342"
            }
          },
          "metadata": {}
        },
        {
          "output_type": "display_data",
          "data": {
            "text/plain": [
              "FloatSlider(value=0.8, description='Right Arm Reward Probability', max=1.0, step=0.01)"
            ],
            "application/vnd.jupyter.widget-view+json": {
              "version_major": 2,
              "version_minor": 0,
              "model_id": "0d2272ad48b94131bc87f5261454c7d6"
            }
          },
          "metadata": {}
        },
        {
          "output_type": "display_data",
          "data": {
            "text/plain": [
              "Button(description='Simulate!', style=ButtonStyle())"
            ],
            "application/vnd.jupyter.widget-view+json": {
              "version_major": 2,
              "version_minor": 0,
              "model_id": "d1cfd24a360b451888c59a0ea2ecc606"
            }
          },
          "metadata": {}
        },
        {
          "output_type": "display_data",
          "data": {
            "text/plain": [
              "Output()"
            ],
            "application/vnd.jupyter.widget-view+json": {
              "version_major": 2,
              "version_minor": 0,
              "model_id": "846b079124654a2180c472a8e9ec5372"
            }
          },
          "metadata": {}
        }
      ],
      "source": [
        "class SwitchedBinaryBandit:\n",
        "    \"\"\"\n",
        "    A class to represent a binary bandit that switches probabilities every dt timesteps.\n",
        "    \"\"\"\n",
        "    def __init__(self, p, dt=50):\n",
        "        self.p = p\n",
        "        self.t = 0\n",
        "        self.dt = dt\n",
        "\n",
        "    def pull(self):\n",
        "        reward = 1 if np.random.random() < self.p else 0\n",
        "        return reward\n",
        "\n",
        "    def step(self):\n",
        "        self.t += 1\n",
        "        if self.t % self.dt == 0:\n",
        "            self.p = 1 - self.p\n",
        "        pass\n",
        "\n",
        "    def expected_reward(self):\n",
        "        return self.p\n",
        "\n",
        "def simulate(p_L, p_R, num_trials=100):\n",
        "\n",
        "    bandits = [SwitchedBinaryBandit(p_L), SwitchedBinaryBandit(p_R)]\n",
        "    rewards, expected_rewards, selected_arms, beliefs, lb, ub, cum_regret = bayesian_ucb(bandits, num_trials)\n",
        "    cumulative_reward = np.cumsum(rewards)\n",
        "\n",
        "    plot_ucb(beliefs, lb, ub, selected_arms, cumulative_reward, cum_regret, expected_rewards)\n",
        "\n",
        "p_L_slider = FloatSlider(min=0, max=1, step=0.01, value=0.2, description='Left Arm Reward Probability')\n",
        "p_R_slider = FloatSlider(min=0, max=1, step=0.01, value=0.8, description='Right Arm Reward Probability')\n",
        "simulate_button = Button(description='Simulate!')\n",
        "output = Output()\n",
        "\n",
        "def on_button_clicked(b):\n",
        "    with output:\n",
        "        output.clear_output()\n",
        "        simulate(p_L_slider.value, p_R_slider.value, 250)\n",
        "\n",
        "simulate_button.on_click(on_button_clicked)\n",
        "\n",
        "display(p_L_slider, p_R_slider, simulate_button, output)"
      ]
    },
    {
      "cell_type": "markdown",
      "metadata": {
        "execution": {},
        "id": "YzjBu3nz6I-O"
      },
      "source": [
        "## Discussion point 3\n",
        "\n",
        "Our agent seemed to be doing well in the fixed scenario. However, in the second scenario, where the reward probabilities switch every 50 trials, the agent seems to be struggling, and the regret grows high. Why do you think this is the case?"
      ]
    },
    {
      "cell_type": "markdown",
      "metadata": {
        "execution": {},
        "id": "8oR3jb6p6I-O"
      },
      "source": [
        "[*Click for solution*](https://github.com/neuromatch/NeuroAI_Course/tree/main/tutorials/W1D2_ComparingTasks/solutions/W1D2_Tutorial3_Solution_ecdb8e78.py)\n",
        "\n"
      ]
    },
    {
      "cell_type": "code",
      "execution_count": null,
      "metadata": {
        "cellView": "form",
        "execution": {},
        "id": "LW-yQ9eW6I-O"
      },
      "outputs": [],
      "source": [
        "# @title Submit your feedback\n",
        "content_review(f\"{feedback_prefix}_Discussion_Point_3\")"
      ]
    },
    {
      "cell_type": "markdown",
      "metadata": {
        "execution": {},
        "id": "ENvJJusF6I-O"
      },
      "source": [
        "---\n",
        "# Section 3: Meta-learning and meta-reinforcement learning"
      ]
    },
    {
      "cell_type": "code",
      "execution_count": 12,
      "metadata": {
        "cellView": "form",
        "execution": {},
        "id": "3KpcJsT86I-O",
        "outputId": "f6aa49d9-1eac-41ab-ae76-0cde6721a62c",
        "colab": {
          "base_uri": "https://localhost:8080/",
          "height": 581,
          "referenced_widgets": [
            "ccb73503681d4230bb480add4e19f0b6",
            "fceefb8970f14746add8c6b2d257d799",
            "3bb9e599f5634c33b0c6ecb1c6e25982",
            "b365683a37f14105829b858c05958efe",
            "19eb541f95554351a6dab80c1a36436a",
            "03cb7112f2ec44b6bee29119486fc745"
          ]
        }
      },
      "outputs": [
        {
          "output_type": "display_data",
          "data": {
            "text/plain": [
              "Tab(children=(Output(), Output()), _titles={'0': 'Youtube', '1': 'Bilibili'})"
            ],
            "application/vnd.jupyter.widget-view+json": {
              "version_major": 2,
              "version_minor": 0,
              "model_id": "ccb73503681d4230bb480add4e19f0b6"
            }
          },
          "metadata": {}
        }
      ],
      "source": [
        "# @title Video 3: Meta-RL\n",
        "\n",
        "from ipywidgets import widgets\n",
        "from IPython.display import YouTubeVideo\n",
        "from IPython.display import IFrame\n",
        "from IPython.display import display\n",
        "\n",
        "\n",
        "class PlayVideo(IFrame):\n",
        "  def __init__(self, id, source, page=1, width=400, height=300, **kwargs):\n",
        "    self.id = id\n",
        "    if source == 'Bilibili':\n",
        "      src = f'https://player.bilibili.com/player.html?bvid={id}&page={page}'\n",
        "    elif source == 'Osf':\n",
        "      src = f'https://mfr.ca-1.osf.io/render?url=https://osf.io/download/{id}/?direct%26mode=render'\n",
        "    super(PlayVideo, self).__init__(src, width, height, **kwargs)\n",
        "\n",
        "\n",
        "def display_videos(video_ids, W=400, H=300, fs=1):\n",
        "  tab_contents = []\n",
        "  for i, video_id in enumerate(video_ids):\n",
        "    out = widgets.Output()\n",
        "    with out:\n",
        "      if video_ids[i][0] == 'Youtube':\n",
        "        video = YouTubeVideo(id=video_ids[i][1], width=W,\n",
        "                             height=H, fs=fs, rel=0)\n",
        "        print(f'Video available at https://youtube.com/watch?v={video.id}')\n",
        "      else:\n",
        "        video = PlayVideo(id=video_ids[i][1], source=video_ids[i][0], width=W,\n",
        "                          height=H, fs=fs, autoplay=False)\n",
        "        if video_ids[i][0] == 'Bilibili':\n",
        "          print(f'Video available at https://www.bilibili.com/video/{video.id}')\n",
        "        elif video_ids[i][0] == 'Osf':\n",
        "          print(f'Video available at https://osf.io/{video.id}')\n",
        "      display(video)\n",
        "    tab_contents.append(out)\n",
        "  return tab_contents\n",
        "\n",
        "\n",
        "video_ids = [('Youtube', 'chc457oVgbo'), ('Bilibili', 'BV1o1421r7A6')]\n",
        "tab_contents = display_videos(video_ids, W=854, H=480)\n",
        "tabs = widgets.Tab()\n",
        "tabs.children = tab_contents\n",
        "for i in range(len(tab_contents)):\n",
        "  tabs.set_title(i, video_ids[i][0])\n",
        "display(tabs)"
      ]
    },
    {
      "cell_type": "code",
      "execution_count": null,
      "metadata": {
        "cellView": "form",
        "execution": {},
        "id": "84toBwFn6I-O"
      },
      "outputs": [],
      "source": [
        "# @title Submit your feedback\n",
        "content_review(f\"{feedback_prefix}_meta_RL\")"
      ]
    },
    {
      "cell_type": "markdown",
      "metadata": {
        "execution": {},
        "id": "trYl8n746I-O"
      },
      "source": [
        "We introduced in the previous section the bandit task, the concept of regret, and an agent with a fixed policy that performs well in a fixed environment. We also saw the agent struggle when the environment changes. Humans and machines alike must display **adaptive behaviour** even as the environment changes. This is the essence of meta-learning. This also ties into the theme of the course, how we can **generalize** between different tasks, situations or environments.\n",
        "\n",
        "Meta-learning is a sub-field of machine learning that corresponds to a process in which an algorithm *learns to learn*. The idea is that the algorithm will learn during training how to adapt itself to different tasks. When faced with a new task, or changes in the environment, the trained algorithm will quickly adapt to this new task without requiring additional training (the weights of the network are not changed).\n",
        "\n",
        "In meta-reinforcement learning (Meta-RL), this concept is applied to a reinforcement learning agent. During training, the agent is exposed to different episodes with different environments and gains meta-learning strategies. At deployment, the agent is faced with a new environment and uses the trials from that episode (the combination of actions, states and rewards) to learn a policy as the algorithm is running. Meta-RL algorithms are typically implemented using a deep learning architecture such as an LSTM. Once they are trained, the weights of the LSTM are fixed. When faced with a new episode, the activations in the LSTM implement **nested learning**, in which the algorithm identifies the best arm of the bandit gives the maximum reward for this specific episode."
      ]
    },
    {
      "cell_type": "markdown",
      "metadata": {
        "execution": {},
        "id": "ibdL0JfR6I-S"
      },
      "source": [
        "## Prefrontal cortex as a meta-reinforcement learning system\n",
        "\n",
        "Our discussion will follow this classic NeuroAI paper:\n",
        "\n",
        "[1] Wang, Jane X., Zeb Kurth-Nelson, Dharshan Kumaran, Dhruva Tirumala, Hubert Soyer, Joel Z. Leibo, Demis Hassabis, and Matthew Botvinick. **\"Prefrontal cortex as a meta-reinforcement learning system.\"** Nature neuroscience 21, no. 6 (2018): 860-868.\n",
        "\n",
        "Available at [this link](https://www.nature.com/articles/s41593-018-0147-8).\n",
        "\n",
        "This paper aims to reconcile two seemingly disparate ideas about learning in the prefrontal cortex (PFC). The activations in the PFC are correlated to actions, values and rewards, indicating that the PFC is engaged in RL. Another set of findings, including the fact that PFC activity is correlated with the recent history of rewards and actions, also suggests that the PFC is acting as a Meta-RL agent. The paper proposes a Meta-RL model, the weights of which are optimized during training to allow it to learn a second RL algorithm dynamically, as the properties of the environment change. They demonstrate a close match between findings in the neuroscience literature on the PFC and their trained RNN.\n",
        "\n",
        "### Learning at different time scales\n",
        "\n",
        "We will explore here the demo in Figure 1 of the paper. Figure C below shows the architecture of the Meta-RL model, which is implemented as an LSTM. We will explore how, after training, the weights of the LSTM implement an RL procedure (e.g., we will see if this procedure deals with the exploration-exploitation tradeoff).\n",
        "\n",
        "We will also explore how learning can occur at different time scales (see figure B below):\n",
        "\n",
        "**Latent world state (fast)**: In this demo, at the start of each episode, a new set of probabilities $p_L$ and $p_R = 1-p_L$ are sampled. This corresponds to latent world state parameters that change on a slower time scale than the observations level (i.e., trials), but still at a relatively fast scale (each episode here has 100 trials).\n",
        "\n",
        "**Context (slow)**: We think of the context level as a slower time scale at which the world is changing and affecting how the parameters of the latent world state are sampled. In this paper, the authors train their Meta-RL model in two contexts. In the first (independent bandit context), the parameters of the successive latent world state (i.e., $p_L$ and $p_R$ from two successive episodes) are not correlated. There is no specific knowledge about the parameters that can be generalized from one episode to the next. In the second (correlated bandit context), the parameters are anti-correlated, similar to the scenario we explored in the last section with the UCB algorithm. Long-time scale integration can be leveraged for faster learning in the next episode. We will explore how training in these two different contexts affects performance."
      ]
    },
    {
      "cell_type": "markdown",
      "metadata": {
        "execution": {},
        "tags": [
          "hide-input"
        ],
        "id": "kNYiebS56I-S"
      },
      "source": [
        "<img src=\"https://github.com/neuromatch/NeuroAI_Course/blob/main/tutorials/W1D2_ComparingTasks/static/learning_temporal_scales.png?raw=true\" width=600 />"
      ]
    },
    {
      "cell_type": "markdown",
      "metadata": {
        "execution": {},
        "id": "5m8KNw3A6I-S"
      },
      "source": [
        "*Figure B - Learning across temporal scales*\n",
        "\n",
        "Keep this figure in mind. We're going to return to it next week when Grace Lindsay introduces macrolearning, specifically the slower context of evolutionary adaptation and how this affects learning and generalization!\n",
        "\n",
        "### Architecture"
      ]
    },
    {
      "cell_type": "markdown",
      "metadata": {
        "cellView": "form",
        "execution": {},
        "tags": [
          "hide-input"
        ],
        "id": "cqgLWz0c6I-S"
      },
      "source": [
        "<img src=\"https://github.com/neuromatch/NeuroAI_Course/blob/main/tutorials/W1D2_ComparingTasks/static/model_architecture.png?raw=true\" width=600 />"
      ]
    },
    {
      "cell_type": "markdown",
      "metadata": {
        "execution": {},
        "jp-MarkdownHeadingCollapsed": true,
        "id": "milL_ghv6I-S"
      },
      "source": [
        "*Figure C - Model architecture. Adapted from Figure 1 of Wang et al. The PFC, along with the basal ganglia and directly connected thalamus, are modelled as a recurrent network. The synaptic weights are adjusted during training. a = action, r = reward, v = state value. Specifically, the algorithm is implemented as an LSTM (part b above shows the model in more detail, along with an inset of one LSTM model unit illustrating the maintenance mechanism).*\n"
      ]
    },
    {
      "cell_type": "markdown",
      "metadata": {
        "execution": {},
        "id": "xAqIUUYl6I-S"
      },
      "source": [
        "### Uncorrelated vs. correlated settings, seen through cumulative regret\n",
        "\n",
        "In the paper, the average cumulative regret (defined above) of the Meta-RL agent under the independent bandit and the correlated bandits contexts is computed over 300 episodes for the setting $p_L =0.25$ and $p_R = 0.75$ (see figure E). It is compared to the cumulative regret for three common algorithms (Gittin indices, Thompson sampling and UCB, also discussed above).\n"
      ]
    },
    {
      "cell_type": "markdown",
      "metadata": {
        "cellView": "form",
        "execution": {},
        "tags": [
          "hide-input"
        ],
        "id": "sd4VZLfY6I-S"
      },
      "source": [
        "<img src=\"https://github.com/neuromatch/NeuroAI_Course/blob/main/tutorials/W1D2_ComparingTasks/static/cummulative_regret.png?raw=true\" width=400 />"
      ]
    },
    {
      "cell_type": "markdown",
      "metadata": {
        "execution": {},
        "id": "dw4UwshE6I-T"
      },
      "source": [
        "*Figure E - Cumulative Regret tested on a probability setting of 0.25, 0.75. Adapted from Figure 1 of Wang et al.*\n",
        "\n",
        "Notice that the Meta-RL agent trained in the correlated bandit context can capitalize on the information present in successive episodes and obtain a better performance than the one trained in the independent bandit context, matching the performance of the optimal algorithm (Gittins indices). The model also performs better than heuristics like Thompson sampling and UCB."
      ]
    },
    {
      "cell_type": "markdown",
      "metadata": {
        "execution": {},
        "id": "58nPJ2iE6I-T"
      },
      "source": [
        "### The learned model dynamics implement an RL algorithm\n",
        "\n",
        "The authors go on to demonstrate that across many contexts, the Meta-RL algorithm can recapitulate classic findings from the neuroscience literature on the prefrontal cortex (PFC). Modelling the brain with ANNs allows us to do things which would otherwise be arduous in neuroscience, like peering inside the internals of the model.\n",
        "\n",
        "Here, we explore more in-depth how the activations in the LSTM implement the RL algorithm, by visualizing the top principal components (PCs) projections of the internal states of the LSTM during the different trials of an episode. Specifically, we look at the Meta-RL agent trained in the correlated bandit setting (Figure F)."
      ]
    },
    {
      "cell_type": "markdown",
      "metadata": {
        "cellView": "form",
        "execution": {},
        "tags": [
          "hide-input"
        ],
        "id": "ADLZaVdG6I-T"
      },
      "source": [
        "<img src=\"https://github.com/neuromatch/NeuroAI_Course/blob/main/tutorials/W1D2_ComparingTasks/static/evolution.png?raw=true\" width=600 />"
      ]
    },
    {
      "cell_type": "markdown",
      "metadata": {
        "execution": {},
        "id": "05SNVKPO6I-T"
      },
      "source": [
        "*Figure F - Evolution of model activations during different episodes. Adapted from Figure 1 of Wang et al. Each subfigure is a different episode, with the arm probabilities shown at the top. The activations at the 100 trials of an episode are projected to their top two PCs and plotted using an asterisk when the model chooses the left arm and a triangle when the model chooses the right arm. The color indicates the trial number.  Adapted from Figure 1 of Wang et al.*\n",
        "\n",
        "### Discussion point 4\n",
        "In Figure F, the PCs of the model activations are obtained and the 100 trials in four episodes with specific probabilities are shown, projected onto PC1 and PC2. Observe the different patterns:\n",
        "- Which two episodes show a fast convergence to an optimal action? How does this manifest?\n",
        "- In the other two episodes, describe the trajectory of the activations, does the model change its estimation of the optimal arm? What leads to this change?\n",
        "- What does the PC1 dimension appear to represent?\n"
      ]
    },
    {
      "cell_type": "markdown",
      "metadata": {
        "execution": {},
        "id": "Hm0nu2jM6I-T"
      },
      "source": [
        "[*Click for solution*](https://github.com/neuromatch/NeuroAI_Course/tree/main/tutorials/W1D2_ComparingTasks/solutions/W1D2_Tutorial3_Solution_bb3c2703.py)\n",
        "\n"
      ]
    },
    {
      "cell_type": "code",
      "execution_count": null,
      "metadata": {
        "cellView": "form",
        "execution": {},
        "id": "kCWdrmKZ6I-T"
      },
      "outputs": [],
      "source": [
        "# @title Submit your feedback\n",
        "content_review(f\"{feedback_prefix}_Discussion_Point_4\")"
      ]
    },
    {
      "cell_type": "markdown",
      "metadata": {
        "execution": {},
        "id": "KZJr71Uq6I-T"
      },
      "source": [
        "---\n",
        "# Summary"
      ]
    },
    {
      "cell_type": "markdown",
      "metadata": {
        "execution": {},
        "id": "LYBda5Ji6I-T"
      },
      "source": [
        "In this tutorial, we examined how reinforcement learning can be adapted and scaled across different temporal dimensions, particularly focusing on meta-reinforcement learning (meta-RL) frameworks. We explored the concept of \"learning to learn,\" where an algorithm adjusts its strategy based on accumulated knowledge from varied episodes, rather than from static training. This approach is important when dealing with dynamic environments or when the agent is introduced to novel scenarios not covered during initial training.\n",
        "\n",
        "We focused on the binary bandit setup, where an agent decides between two options, balancing exploration (gathering information) and exploitation (leveraging known information for rewards). We showed the mechanics of one classic bandit strategy, the Upper Confidence Bound (UCB) algorithm. We showed it could solve a static bandit task, but struggled when the environment changed.\n",
        "\n",
        "This motivated our discussion of meta-RL, where the agent is trained across episodes with varying conditions, thereby learning a flexible policy that can quickly adapt to new environments. The tutorial wrapped up by linking these learning processes to neural mechanisms, offering a bridge between artificial intelligence and neuroscientific understandings of learning."
      ]
    },
    {
      "cell_type": "markdown",
      "metadata": {
        "execution": {},
        "id": "ddFTvUEO6I-T"
      },
      "source": [
        "## The Big Picture\n",
        "\n",
        "\n",
        "Our Meta-RL setup, where the agent is trained across episodes with varying conditions, learned a flexible policy that can quickly **adapt to new environments**. The specific setup involved learned weights that generalize in a different manner to what we saw before. Instead of the representations being useful across tasks by virtue of the cost function used in training, the Meta-RL algorithm had model weights that could dynamically shift to different strategies based on how it was learning over time (the time steps in each episode).\n",
        "\n",
        "This is an additional mechanism that enables us to study **generalization** from a different viewpoint yet again. Is our brain really performing Meta-RL at a scale we can't yet fully understand? Maybe one of you will one day be able to answer this question. If you're curious to learn more about RL, then we'll be returning to some key concepts next week, so stay tuned!"
      ]
    }
  ],
  "metadata": {
    "colab": {
      "name": "W1D2_Tutorial3",
      "provenance": [],
      "toc_visible": true
    },
    "kernel": {
      "display_name": "Python 3",
      "language": "python",
      "name": "python3"
    },
    "kernelspec": {
      "display_name": "Python 3 (ipykernel)",
      "language": "python",
      "name": "python3"
    },
    "language_info": {
      "codemirror_mode": {
        "name": "ipython",
        "version": 3
      },
      "file_extension": ".py",
      "mimetype": "text/x-python",
      "name": "python",
      "nbconvert_exporter": "python",
      "pygments_lexer": "ipython3",
      "version": "3.9.22"
    },
    "widgets": {
      "application/vnd.jupyter.widget-state+json": {
        "4698a936070340d2aa272b0d4de68ed3": {
          "model_module": "@jupyter-widgets/controls",
          "model_name": "TabModel",
          "model_module_version": "1.5.0",
          "state": {
            "_dom_classes": [],
            "_model_module": "@jupyter-widgets/controls",
            "_model_module_version": "1.5.0",
            "_model_name": "TabModel",
            "_titles": {
              "0": "Youtube",
              "1": "Bilibili"
            },
            "_view_count": null,
            "_view_module": "@jupyter-widgets/controls",
            "_view_module_version": "1.5.0",
            "_view_name": "TabView",
            "box_style": "",
            "children": [
              "IPY_MODEL_c1a353b7130243d7b483fdf4b9535c0e",
              "IPY_MODEL_5e4ae4ad51a84fbcb695ee9e9ead668a"
            ],
            "layout": "IPY_MODEL_a0e8e50998884ac1a6c3231e6b28b5fd",
            "selected_index": 0
          }
        },
        "c1a353b7130243d7b483fdf4b9535c0e": {
          "model_module": "@jupyter-widgets/output",
          "model_name": "OutputModel",
          "model_module_version": "1.0.0",
          "state": {
            "_dom_classes": [],
            "_model_module": "@jupyter-widgets/output",
            "_model_module_version": "1.0.0",
            "_model_name": "OutputModel",
            "_view_count": null,
            "_view_module": "@jupyter-widgets/output",
            "_view_module_version": "1.0.0",
            "_view_name": "OutputView",
            "layout": "IPY_MODEL_9aae90ebadbe4b369e99121eed3ca3c1",
            "msg_id": "",
            "outputs": [
              {
                "output_type": "stream",
                "name": "stdout",
                "text": [
                  "Video available at https://youtube.com/watch?v=YDOhHzVUpGU\n"
                ]
              },
              {
                "output_type": "display_data",
                "data": {
                  "text/plain": "<IPython.lib.display.YouTubeVideo at 0x796bb068cc10>",
                  "text/html": "\n        <iframe\n            width=\"854\"\n            height=\"480\"\n            src=\"https://www.youtube.com/embed/YDOhHzVUpGU?fs=1&rel=0\"\n            frameborder=\"0\"\n            allowfullscreen\n            \n        ></iframe>\n        ",
                  "image/jpeg": "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\n"
                },
                "metadata": {}
              }
            ]
          }
        },
        "5e4ae4ad51a84fbcb695ee9e9ead668a": {
          "model_module": "@jupyter-widgets/output",
          "model_name": "OutputModel",
          "model_module_version": "1.0.0",
          "state": {
            "_dom_classes": [],
            "_model_module": "@jupyter-widgets/output",
            "_model_module_version": "1.0.0",
            "_model_name": "OutputModel",
            "_view_count": null,
            "_view_module": "@jupyter-widgets/output",
            "_view_module_version": "1.0.0",
            "_view_name": "OutputView",
            "layout": "IPY_MODEL_8ca2282c3f6e431f9a0039b18276dfc9",
            "msg_id": "",
            "outputs": [
              {
                "output_type": "stream",
                "name": "stdout",
                "text": [
                  "Video available at https://www.bilibili.com/video/BV1bbVjzyE34\n"
                ]
              },
              {
                "output_type": "display_data",
                "data": {
                  "text/plain": "<__main__.PlayVideo at 0x796bb068ef10>",
                  "text/html": "\n        <iframe\n            width=\"854\"\n            height=\"480\"\n            src=\"https://player.bilibili.com/player.html?bvid=BV1bbVjzyE34&page=1?fs=1&autoplay=False\"\n            frameborder=\"0\"\n            allowfullscreen\n            \n        ></iframe>\n        "
                },
                "metadata": {}
              }
            ]
          }
        },
        "a0e8e50998884ac1a6c3231e6b28b5fd": {
          "model_module": "@jupyter-widgets/base",
          "model_name": "LayoutModel",
          "model_module_version": "1.2.0",
          "state": {
            "_model_module": "@jupyter-widgets/base",
            "_model_module_version": "1.2.0",
            "_model_name": "LayoutModel",
            "_view_count": null,
            "_view_module": "@jupyter-widgets/base",
            "_view_module_version": "1.2.0",
            "_view_name": "LayoutView",
            "align_content": null,
            "align_items": null,
            "align_self": null,
            "border": null,
            "bottom": null,
            "display": null,
            "flex": null,
            "flex_flow": null,
            "grid_area": null,
            "grid_auto_columns": null,
            "grid_auto_flow": null,
            "grid_auto_rows": null,
            "grid_column": null,
            "grid_gap": null,
            "grid_row": null,
            "grid_template_areas": null,
            "grid_template_columns": null,
            "grid_template_rows": null,
            "height": null,
            "justify_content": null,
            "justify_items": null,
            "left": null,
            "margin": null,
            "max_height": null,
            "max_width": null,
            "min_height": null,
            "min_width": null,
            "object_fit": null,
            "object_position": null,
            "order": null,
            "overflow": null,
            "overflow_x": null,
            "overflow_y": null,
            "padding": null,
            "right": null,
            "top": null,
            "visibility": null,
            "width": null
          }
        },
        "9aae90ebadbe4b369e99121eed3ca3c1": {
          "model_module": "@jupyter-widgets/base",
          "model_name": "LayoutModel",
          "model_module_version": "1.2.0",
          "state": {
            "_model_module": "@jupyter-widgets/base",
            "_model_module_version": "1.2.0",
            "_model_name": "LayoutModel",
            "_view_count": null,
            "_view_module": "@jupyter-widgets/base",
            "_view_module_version": "1.2.0",
            "_view_name": "LayoutView",
            "align_content": null,
            "align_items": null,
            "align_self": null,
            "border": null,
            "bottom": null,
            "display": null,
            "flex": null,
            "flex_flow": null,
            "grid_area": null,
            "grid_auto_columns": null,
            "grid_auto_flow": null,
            "grid_auto_rows": null,
            "grid_column": null,
            "grid_gap": null,
            "grid_row": null,
            "grid_template_areas": null,
            "grid_template_columns": null,
            "grid_template_rows": null,
            "height": null,
            "justify_content": null,
            "justify_items": null,
            "left": null,
            "margin": null,
            "max_height": null,
            "max_width": null,
            "min_height": null,
            "min_width": null,
            "object_fit": null,
            "object_position": null,
            "order": null,
            "overflow": null,
            "overflow_x": null,
            "overflow_y": null,
            "padding": null,
            "right": null,
            "top": null,
            "visibility": null,
            "width": null
          }
        },
        "8ca2282c3f6e431f9a0039b18276dfc9": {
          "model_module": "@jupyter-widgets/base",
          "model_name": "LayoutModel",
          "model_module_version": "1.2.0",
          "state": {
            "_model_module": "@jupyter-widgets/base",
            "_model_module_version": "1.2.0",
            "_model_name": "LayoutModel",
            "_view_count": null,
            "_view_module": "@jupyter-widgets/base",
            "_view_module_version": "1.2.0",
            "_view_name": "LayoutView",
            "align_content": null,
            "align_items": null,
            "align_self": null,
            "border": null,
            "bottom": null,
            "display": null,
            "flex": null,
            "flex_flow": null,
            "grid_area": null,
            "grid_auto_columns": null,
            "grid_auto_flow": null,
            "grid_auto_rows": null,
            "grid_column": null,
            "grid_gap": null,
            "grid_row": null,
            "grid_template_areas": null,
            "grid_template_columns": null,
            "grid_template_rows": null,
            "height": null,
            "justify_content": null,
            "justify_items": null,
            "left": null,
            "margin": null,
            "max_height": null,
            "max_width": null,
            "min_height": null,
            "min_width": null,
            "object_fit": null,
            "object_position": null,
            "order": null,
            "overflow": null,
            "overflow_x": null,
            "overflow_y": null,
            "padding": null,
            "right": null,
            "top": null,
            "visibility": null,
            "width": null
          }
        },
        "6de3121020204fc88fa68f1530e388d2": {
          "model_module": "@jupyter-widgets/controls",
          "model_name": "TabModel",
          "model_module_version": "1.5.0",
          "state": {
            "_dom_classes": [],
            "_model_module": "@jupyter-widgets/controls",
            "_model_module_version": "1.5.0",
            "_model_name": "TabModel",
            "_titles": {
              "0": "Youtube",
              "1": "Bilibili"
            },
            "_view_count": null,
            "_view_module": "@jupyter-widgets/controls",
            "_view_module_version": "1.5.0",
            "_view_name": "TabView",
            "box_style": "",
            "children": [
              "IPY_MODEL_7964039f1af9448fa79a277dbeb8fd1a",
              "IPY_MODEL_8ee0662d8ffb4f0eb6cada351e8cfc44"
            ],
            "layout": "IPY_MODEL_cafe9c6940df41c3ae1f91ff8d6bf6dc",
            "selected_index": 0
          }
        },
        "7964039f1af9448fa79a277dbeb8fd1a": {
          "model_module": "@jupyter-widgets/output",
          "model_name": "OutputModel",
          "model_module_version": "1.0.0",
          "state": {
            "_dom_classes": [],
            "_model_module": "@jupyter-widgets/output",
            "_model_module_version": "1.0.0",
            "_model_name": "OutputModel",
            "_view_count": null,
            "_view_module": "@jupyter-widgets/output",
            "_view_module_version": "1.0.0",
            "_view_name": "OutputView",
            "layout": "IPY_MODEL_0a174e5812924a9da543388c35c2b7ff",
            "msg_id": "",
            "outputs": [
              {
                "output_type": "stream",
                "name": "stdout",
                "text": [
                  "Video available at https://youtube.com/watch?v=4fBU0ALeFKk\n"
                ]
              },
              {
                "output_type": "display_data",
                "data": {
                  "text/plain": "<IPython.lib.display.YouTubeVideo at 0x796bb0617250>",
                  "text/html": "\n        <iframe\n            width=\"854\"\n            height=\"480\"\n            src=\"https://www.youtube.com/embed/4fBU0ALeFKk?fs=1&rel=0\"\n            frameborder=\"0\"\n            allowfullscreen\n            \n        ></iframe>\n        ",
                  "image/jpeg": "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\n"
                },
                "metadata": {}
              }
            ]
          }
        },
        "8ee0662d8ffb4f0eb6cada351e8cfc44": {
          "model_module": "@jupyter-widgets/output",
          "model_name": "OutputModel",
          "model_module_version": "1.0.0",
          "state": {
            "_dom_classes": [],
            "_model_module": "@jupyter-widgets/output",
            "_model_module_version": "1.0.0",
            "_model_name": "OutputModel",
            "_view_count": null,
            "_view_module": "@jupyter-widgets/output",
            "_view_module_version": "1.0.0",
            "_view_name": "OutputView",
            "layout": "IPY_MODEL_0aa5d4bcec694496a94e743e8b8c3bc5",
            "msg_id": "",
            "outputs": [
              {
                "output_type": "stream",
                "name": "stdout",
                "text": [
                  "Video available at https://www.bilibili.com/video/BV1KM4m1m7B3\n"
                ]
              },
              {
                "output_type": "display_data",
                "data": {
                  "text/plain": "<__main__.PlayVideo at 0x796bb067b450>",
                  "text/html": "\n        <iframe\n            width=\"854\"\n            height=\"480\"\n            src=\"https://player.bilibili.com/player.html?bvid=BV1KM4m1m7B3&page=1?fs=1&autoplay=False\"\n            frameborder=\"0\"\n            allowfullscreen\n            \n        ></iframe>\n        "
                },
                "metadata": {}
              }
            ]
          }
        },
        "cafe9c6940df41c3ae1f91ff8d6bf6dc": {
          "model_module": "@jupyter-widgets/base",
          "model_name": "LayoutModel",
          "model_module_version": "1.2.0",
          "state": {
            "_model_module": "@jupyter-widgets/base",
            "_model_module_version": "1.2.0",
            "_model_name": "LayoutModel",
            "_view_count": null,
            "_view_module": "@jupyter-widgets/base",
            "_view_module_version": "1.2.0",
            "_view_name": "LayoutView",
            "align_content": null,
            "align_items": null,
            "align_self": null,
            "border": null,
            "bottom": null,
            "display": null,
            "flex": null,
            "flex_flow": null,
            "grid_area": null,
            "grid_auto_columns": null,
            "grid_auto_flow": null,
            "grid_auto_rows": null,
            "grid_column": null,
            "grid_gap": null,
            "grid_row": null,
            "grid_template_areas": null,
            "grid_template_columns": null,
            "grid_template_rows": null,
            "height": null,
            "justify_content": null,
            "justify_items": null,
            "left": null,
            "margin": null,
            "max_height": null,
            "max_width": null,
            "min_height": null,
            "min_width": null,
            "object_fit": null,
            "object_position": null,
            "order": null,
            "overflow": null,
            "overflow_x": null,
            "overflow_y": null,
            "padding": null,
            "right": null,
            "top": null,
            "visibility": null,
            "width": null
          }
        },
        "0a174e5812924a9da543388c35c2b7ff": {
          "model_module": "@jupyter-widgets/base",
          "model_name": "LayoutModel",
          "model_module_version": "1.2.0",
          "state": {
            "_model_module": "@jupyter-widgets/base",
            "_model_module_version": "1.2.0",
            "_model_name": "LayoutModel",
            "_view_count": null,
            "_view_module": "@jupyter-widgets/base",
            "_view_module_version": "1.2.0",
            "_view_name": "LayoutView",
            "align_content": null,
            "align_items": null,
            "align_self": null,
            "border": null,
            "bottom": null,
            "display": null,
            "flex": null,
            "flex_flow": null,
            "grid_area": null,
            "grid_auto_columns": null,
            "grid_auto_flow": null,
            "grid_auto_rows": null,
            "grid_column": null,
            "grid_gap": null,
            "grid_row": null,
            "grid_template_areas": null,
            "grid_template_columns": null,
            "grid_template_rows": null,
            "height": null,
            "justify_content": null,
            "justify_items": null,
            "left": null,
            "margin": null,
            "max_height": null,
            "max_width": null,
            "min_height": null,
            "min_width": null,
            "object_fit": null,
            "object_position": null,
            "order": null,
            "overflow": null,
            "overflow_x": null,
            "overflow_y": null,
            "padding": null,
            "right": null,
            "top": null,
            "visibility": null,
            "width": null
          }
        },
        "0aa5d4bcec694496a94e743e8b8c3bc5": {
          "model_module": "@jupyter-widgets/base",
          "model_name": "LayoutModel",
          "model_module_version": "1.2.0",
          "state": {
            "_model_module": "@jupyter-widgets/base",
            "_model_module_version": "1.2.0",
            "_model_name": "LayoutModel",
            "_view_count": null,
            "_view_module": "@jupyter-widgets/base",
            "_view_module_version": "1.2.0",
            "_view_name": "LayoutView",
            "align_content": null,
            "align_items": null,
            "align_self": null,
            "border": null,
            "bottom": null,
            "display": null,
            "flex": null,
            "flex_flow": null,
            "grid_area": null,
            "grid_auto_columns": null,
            "grid_auto_flow": null,
            "grid_auto_rows": null,
            "grid_column": null,
            "grid_gap": null,
            "grid_row": null,
            "grid_template_areas": null,
            "grid_template_columns": null,
            "grid_template_rows": null,
            "height": null,
            "justify_content": null,
            "justify_items": null,
            "left": null,
            "margin": null,
            "max_height": null,
            "max_width": null,
            "min_height": null,
            "min_width": null,
            "object_fit": null,
            "object_position": null,
            "order": null,
            "overflow": null,
            "overflow_x": null,
            "overflow_y": null,
            "padding": null,
            "right": null,
            "top": null,
            "visibility": null,
            "width": null
          }
        },
        "cd1076a4514b42c599f012389ae57632": {
          "model_module": "@jupyter-widgets/controls",
          "model_name": "VBoxModel",
          "model_module_version": "1.5.0",
          "state": {
            "_dom_classes": [],
            "_model_module": "@jupyter-widgets/controls",
            "_model_module_version": "1.5.0",
            "_model_name": "VBoxModel",
            "_view_count": null,
            "_view_module": "@jupyter-widgets/controls",
            "_view_module_version": "1.5.0",
            "_view_name": "VBoxView",
            "box_style": "",
            "children": [
              "IPY_MODEL_73afed5593b3455b99bc073a3717c2b8"
            ],
            "layout": "IPY_MODEL_eebcdd49ac964292ade6e04b9c8939b7"
          }
        },
        "73afed5593b3455b99bc073a3717c2b8": {
          "model_module": "@jupyter-widgets/controls",
          "model_name": "VBoxModel",
          "model_module_version": "1.5.0",
          "state": {
            "_dom_classes": [],
            "_model_module": "@jupyter-widgets/controls",
            "_model_module_version": "1.5.0",
            "_model_name": "VBoxModel",
            "_view_count": null,
            "_view_module": "@jupyter-widgets/controls",
            "_view_module_version": "1.5.0",
            "_view_name": "VBoxView",
            "box_style": "",
            "children": [
              "IPY_MODEL_1df5d60a7b3e4564b234dfe53720095d",
              "IPY_MODEL_4d21ca5608ab4eb1931c6eca3527f251",
              "IPY_MODEL_585540d220664903b81ebee2a16fa936"
            ],
            "layout": "IPY_MODEL_6d14de399f07452b976bbc74a544bf07"
          }
        },
        "eebcdd49ac964292ade6e04b9c8939b7": {
          "model_module": "@jupyter-widgets/base",
          "model_name": "LayoutModel",
          "model_module_version": "1.2.0",
          "state": {
            "_model_module": "@jupyter-widgets/base",
            "_model_module_version": "1.2.0",
            "_model_name": "LayoutModel",
            "_view_count": null,
            "_view_module": "@jupyter-widgets/base",
            "_view_module_version": "1.2.0",
            "_view_name": "LayoutView",
            "align_content": null,
            "align_items": null,
            "align_self": null,
            "border": null,
            "bottom": null,
            "display": null,
            "flex": null,
            "flex_flow": null,
            "grid_area": null,
            "grid_auto_columns": null,
            "grid_auto_flow": null,
            "grid_auto_rows": null,
            "grid_column": null,
            "grid_gap": null,
            "grid_row": null,
            "grid_template_areas": null,
            "grid_template_columns": null,
            "grid_template_rows": null,
            "height": null,
            "justify_content": null,
            "justify_items": null,
            "left": null,
            "margin": null,
            "max_height": null,
            "max_width": null,
            "min_height": null,
            "min_width": null,
            "object_fit": null,
            "object_position": null,
            "order": null,
            "overflow": null,
            "overflow_x": null,
            "overflow_y": null,
            "padding": null,
            "right": null,
            "top": null,
            "visibility": null,
            "width": null
          }
        },
        "1df5d60a7b3e4564b234dfe53720095d": {
          "model_module": "@jupyter-widgets/controls",
          "model_name": "HBoxModel",
          "model_module_version": "1.5.0",
          "state": {
            "_dom_classes": [],
            "_model_module": "@jupyter-widgets/controls",
            "_model_module_version": "1.5.0",
            "_model_name": "HBoxModel",
            "_view_count": null,
            "_view_module": "@jupyter-widgets/controls",
            "_view_module_version": "1.5.0",
            "_view_name": "HBoxView",
            "box_style": "",
            "children": [
              "IPY_MODEL_831ad21ba85a49e7bf852a80dcb62291",
              "IPY_MODEL_64caa09f6ed141d6a820dff272cac7bc",
              "IPY_MODEL_b3a3dbaf583c4b03a772eda62a670f3a"
            ],
            "layout": "IPY_MODEL_ae85ca36929c4e8c9374197473190b38"
          }
        },
        "4d21ca5608ab4eb1931c6eca3527f251": {
          "model_module": "@jupyter-widgets/controls",
          "model_name": "HBoxModel",
          "model_module_version": "1.5.0",
          "state": {
            "_dom_classes": [],
            "_model_module": "@jupyter-widgets/controls",
            "_model_module_version": "1.5.0",
            "_model_name": "HBoxModel",
            "_view_count": null,
            "_view_module": "@jupyter-widgets/controls",
            "_view_module_version": "1.5.0",
            "_view_name": "HBoxView",
            "box_style": "",
            "children": [
              "IPY_MODEL_06affd8f081342ecbd2db4d198ba2392",
              "IPY_MODEL_1259ca81d7ea453283a93699661df842"
            ],
            "layout": "IPY_MODEL_c79494d107754c2daffb294b01014d7a"
          }
        },
        "585540d220664903b81ebee2a16fa936": {
          "model_module": "@jupyter-widgets/controls",
          "model_name": "LabelModel",
          "model_module_version": "1.5.0",
          "state": {
            "_dom_classes": [],
            "_model_module": "@jupyter-widgets/controls",
            "_model_module_version": "1.5.0",
            "_model_name": "LabelModel",
            "_view_count": null,
            "_view_module": "@jupyter-widgets/controls",
            "_view_module_version": "1.5.0",
            "_view_name": "LabelView",
            "description": "",
            "description_tooltip": null,
            "layout": "IPY_MODEL_99598d2118e9449dabd41b7fe7539deb",
            "placeholder": "​",
            "style": "IPY_MODEL_9e5d35913c544688a774bafcf315182b",
            "value": "Thanks for your feedback!"
          }
        },
        "6d14de399f07452b976bbc74a544bf07": {
          "model_module": "@jupyter-widgets/base",
          "model_name": "LayoutModel",
          "model_module_version": "1.2.0",
          "state": {
            "_model_module": "@jupyter-widgets/base",
            "_model_module_version": "1.2.0",
            "_model_name": "LayoutModel",
            "_view_count": null,
            "_view_module": "@jupyter-widgets/base",
            "_view_module_version": "1.2.0",
            "_view_name": "LayoutView",
            "align_content": null,
            "align_items": null,
            "align_self": null,
            "border": null,
            "bottom": null,
            "display": null,
            "flex": null,
            "flex_flow": null,
            "grid_area": null,
            "grid_auto_columns": null,
            "grid_auto_flow": null,
            "grid_auto_rows": null,
            "grid_column": null,
            "grid_gap": null,
            "grid_row": null,
            "grid_template_areas": null,
            "grid_template_columns": null,
            "grid_template_rows": null,
            "height": null,
            "justify_content": null,
            "justify_items": null,
            "left": null,
            "margin": null,
            "max_height": null,
            "max_width": null,
            "min_height": null,
            "min_width": null,
            "object_fit": null,
            "object_position": null,
            "order": null,
            "overflow": null,
            "overflow_x": null,
            "overflow_y": null,
            "padding": null,
            "right": null,
            "top": null,
            "visibility": null,
            "width": null
          }
        },
        "831ad21ba85a49e7bf852a80dcb62291": {
          "model_module": "@jupyter-widgets/controls",
          "model_name": "ButtonModel",
          "model_module_version": "1.5.0",
          "state": {
            "_dom_classes": [
              "happy"
            ],
            "_model_module": "@jupyter-widgets/controls",
            "_model_module_version": "1.5.0",
            "_model_name": "ButtonModel",
            "_view_count": null,
            "_view_module": "@jupyter-widgets/controls",
            "_view_module_version": "1.5.0",
            "_view_name": "ButtonView",
            "button_style": "",
            "description": "🙂",
            "disabled": false,
            "icon": "",
            "layout": "IPY_MODEL_a2918726b1cb4b6e9568d5b3ed430a0e",
            "style": "IPY_MODEL_bc2499bf500e456ca68904791ba2ed4a",
            "tooltip": "happy"
          }
        },
        "64caa09f6ed141d6a820dff272cac7bc": {
          "model_module": "@jupyter-widgets/controls",
          "model_name": "ButtonModel",
          "model_module_version": "1.5.0",
          "state": {
            "_dom_classes": [
              "medium"
            ],
            "_model_module": "@jupyter-widgets/controls",
            "_model_module_version": "1.5.0",
            "_model_name": "ButtonModel",
            "_view_count": null,
            "_view_module": "@jupyter-widgets/controls",
            "_view_module_version": "1.5.0",
            "_view_name": "ButtonView",
            "button_style": "",
            "description": "😐",
            "disabled": false,
            "icon": "",
            "layout": "IPY_MODEL_ef7ffceb02234b3a95a82df6a2dd17cd",
            "style": "IPY_MODEL_f6e6c4c490e247908cda161e4998e7cd",
            "tooltip": "medium"
          }
        },
        "b3a3dbaf583c4b03a772eda62a670f3a": {
          "model_module": "@jupyter-widgets/controls",
          "model_name": "ButtonModel",
          "model_module_version": "1.5.0",
          "state": {
            "_dom_classes": [
              "sad"
            ],
            "_model_module": "@jupyter-widgets/controls",
            "_model_module_version": "1.5.0",
            "_model_name": "ButtonModel",
            "_view_count": null,
            "_view_module": "@jupyter-widgets/controls",
            "_view_module_version": "1.5.0",
            "_view_name": "ButtonView",
            "button_style": "",
            "description": "🙁",
            "disabled": false,
            "icon": "",
            "layout": "IPY_MODEL_54a1c9bbc7cb4c5db888bdd4df39e48d",
            "style": "IPY_MODEL_eef294391e5c45d78d6d8be87b6fb36a",
            "tooltip": "sad"
          }
        },
        "ae85ca36929c4e8c9374197473190b38": {
          "model_module": "@jupyter-widgets/base",
          "model_name": "LayoutModel",
          "model_module_version": "1.2.0",
          "state": {
            "_model_module": "@jupyter-widgets/base",
            "_model_module_version": "1.2.0",
            "_model_name": "LayoutModel",
            "_view_count": null,
            "_view_module": "@jupyter-widgets/base",
            "_view_module_version": "1.2.0",
            "_view_name": "LayoutView",
            "align_content": null,
            "align_items": null,
            "align_self": null,
            "border": null,
            "bottom": null,
            "display": null,
            "flex": null,
            "flex_flow": null,
            "grid_area": null,
            "grid_auto_columns": null,
            "grid_auto_flow": null,
            "grid_auto_rows": null,
            "grid_column": null,
            "grid_gap": null,
            "grid_row": null,
            "grid_template_areas": null,
            "grid_template_columns": null,
            "grid_template_rows": null,
            "height": null,
            "justify_content": null,
            "justify_items": null,
            "left": null,
            "margin": null,
            "max_height": null,
            "max_width": null,
            "min_height": null,
            "min_width": null,
            "object_fit": null,
            "object_position": null,
            "order": null,
            "overflow": null,
            "overflow_x": null,
            "overflow_y": null,
            "padding": null,
            "right": null,
            "top": null,
            "visibility": null,
            "width": null
          }
        },
        "06affd8f081342ecbd2db4d198ba2392": {
          "model_module": "@jupyter-widgets/controls",
          "model_name": "TextareaModel",
          "model_module_version": "1.5.0",
          "state": {
            "_dom_classes": [],
            "_model_module": "@jupyter-widgets/controls",
            "_model_module_version": "1.5.0",
            "_model_name": "TextareaModel",
            "_view_count": null,
            "_view_module": "@jupyter-widgets/controls",
            "_view_module_version": "1.5.0",
            "_view_name": "TextareaView",
            "continuous_update": true,
            "description": "",
            "description_tooltip": null,
            "disabled": false,
            "layout": "IPY_MODEL_30272e66b373412fb26d2fb1d8f4f412",
            "placeholder": "We want your feedback!",
            "rows": null,
            "style": "IPY_MODEL_6dfbbc1868274cea98a69894b4e9da28",
            "value": ""
          }
        },
        "1259ca81d7ea453283a93699661df842": {
          "model_module": "@jupyter-widgets/controls",
          "model_name": "ButtonModel",
          "model_module_version": "1.5.0",
          "state": {
            "_dom_classes": [],
            "_model_module": "@jupyter-widgets/controls",
            "_model_module_version": "1.5.0",
            "_model_name": "ButtonModel",
            "_view_count": null,
            "_view_module": "@jupyter-widgets/controls",
            "_view_module_version": "1.5.0",
            "_view_name": "ButtonView",
            "button_style": "",
            "description": "Submit",
            "disabled": false,
            "icon": "",
            "layout": "IPY_MODEL_31fc90e84c184c229371759c261a34f4",
            "style": "IPY_MODEL_27facc62100547e994532c7fa635db65",
            "tooltip": ""
          }
        },
        "c79494d107754c2daffb294b01014d7a": {
          "model_module": "@jupyter-widgets/base",
          "model_name": "LayoutModel",
          "model_module_version": "1.2.0",
          "state": {
            "_model_module": "@jupyter-widgets/base",
            "_model_module_version": "1.2.0",
            "_model_name": "LayoutModel",
            "_view_count": null,
            "_view_module": "@jupyter-widgets/base",
            "_view_module_version": "1.2.0",
            "_view_name": "LayoutView",
            "align_content": null,
            "align_items": null,
            "align_self": null,
            "border": null,
            "bottom": null,
            "display": "none",
            "flex": null,
            "flex_flow": null,
            "grid_area": null,
            "grid_auto_columns": null,
            "grid_auto_flow": null,
            "grid_auto_rows": null,
            "grid_column": null,
            "grid_gap": null,
            "grid_row": null,
            "grid_template_areas": null,
            "grid_template_columns": null,
            "grid_template_rows": null,
            "height": null,
            "justify_content": null,
            "justify_items": null,
            "left": null,
            "margin": null,
            "max_height": null,
            "max_width": null,
            "min_height": null,
            "min_width": null,
            "object_fit": null,
            "object_position": null,
            "order": null,
            "overflow": null,
            "overflow_x": null,
            "overflow_y": null,
            "padding": null,
            "right": null,
            "top": null,
            "visibility": null,
            "width": null
          }
        },
        "99598d2118e9449dabd41b7fe7539deb": {
          "model_module": "@jupyter-widgets/base",
          "model_name": "LayoutModel",
          "model_module_version": "1.2.0",
          "state": {
            "_model_module": "@jupyter-widgets/base",
            "_model_module_version": "1.2.0",
            "_model_name": "LayoutModel",
            "_view_count": null,
            "_view_module": "@jupyter-widgets/base",
            "_view_module_version": "1.2.0",
            "_view_name": "LayoutView",
            "align_content": null,
            "align_items": null,
            "align_self": null,
            "border": null,
            "bottom": null,
            "display": "none",
            "flex": null,
            "flex_flow": null,
            "grid_area": null,
            "grid_auto_columns": null,
            "grid_auto_flow": null,
            "grid_auto_rows": null,
            "grid_column": null,
            "grid_gap": null,
            "grid_row": null,
            "grid_template_areas": null,
            "grid_template_columns": null,
            "grid_template_rows": null,
            "height": null,
            "justify_content": null,
            "justify_items": null,
            "left": null,
            "margin": null,
            "max_height": null,
            "max_width": null,
            "min_height": null,
            "min_width": null,
            "object_fit": null,
            "object_position": null,
            "order": null,
            "overflow": null,
            "overflow_x": null,
            "overflow_y": null,
            "padding": null,
            "right": null,
            "top": null,
            "visibility": null,
            "width": null
          }
        },
        "9e5d35913c544688a774bafcf315182b": {
          "model_module": "@jupyter-widgets/controls",
          "model_name": "DescriptionStyleModel",
          "model_module_version": "1.5.0",
          "state": {
            "_model_module": "@jupyter-widgets/controls",
            "_model_module_version": "1.5.0",
            "_model_name": "DescriptionStyleModel",
            "_view_count": null,
            "_view_module": "@jupyter-widgets/base",
            "_view_module_version": "1.2.0",
            "_view_name": "StyleView",
            "description_width": ""
          }
        },
        "a2918726b1cb4b6e9568d5b3ed430a0e": {
          "model_module": "@jupyter-widgets/base",
          "model_name": "LayoutModel",
          "model_module_version": "1.2.0",
          "state": {
            "_model_module": "@jupyter-widgets/base",
            "_model_module_version": "1.2.0",
            "_model_name": "LayoutModel",
            "_view_count": null,
            "_view_module": "@jupyter-widgets/base",
            "_view_module_version": "1.2.0",
            "_view_name": "LayoutView",
            "align_content": null,
            "align_items": null,
            "align_self": null,
            "border": null,
            "bottom": null,
            "display": null,
            "flex": null,
            "flex_flow": null,
            "grid_area": null,
            "grid_auto_columns": null,
            "grid_auto_flow": null,
            "grid_auto_rows": null,
            "grid_column": null,
            "grid_gap": null,
            "grid_row": null,
            "grid_template_areas": null,
            "grid_template_columns": null,
            "grid_template_rows": null,
            "height": "auto",
            "justify_content": null,
            "justify_items": null,
            "left": null,
            "margin": null,
            "max_height": null,
            "max_width": null,
            "min_height": null,
            "min_width": null,
            "object_fit": null,
            "object_position": null,
            "order": null,
            "overflow": null,
            "overflow_x": null,
            "overflow_y": null,
            "padding": "0.5em",
            "right": null,
            "top": null,
            "visibility": null,
            "width": "auto"
          }
        },
        "bc2499bf500e456ca68904791ba2ed4a": {
          "model_module": "@jupyter-widgets/controls",
          "model_name": "ButtonStyleModel",
          "model_module_version": "1.5.0",
          "state": {
            "_model_module": "@jupyter-widgets/controls",
            "_model_module_version": "1.5.0",
            "_model_name": "ButtonStyleModel",
            "_view_count": null,
            "_view_module": "@jupyter-widgets/base",
            "_view_module_version": "1.2.0",
            "_view_name": "StyleView",
            "button_color": "#aaffaa",
            "font_weight": ""
          }
        },
        "ef7ffceb02234b3a95a82df6a2dd17cd": {
          "model_module": "@jupyter-widgets/base",
          "model_name": "LayoutModel",
          "model_module_version": "1.2.0",
          "state": {
            "_model_module": "@jupyter-widgets/base",
            "_model_module_version": "1.2.0",
            "_model_name": "LayoutModel",
            "_view_count": null,
            "_view_module": "@jupyter-widgets/base",
            "_view_module_version": "1.2.0",
            "_view_name": "LayoutView",
            "align_content": null,
            "align_items": null,
            "align_self": null,
            "border": null,
            "bottom": null,
            "display": null,
            "flex": null,
            "flex_flow": null,
            "grid_area": null,
            "grid_auto_columns": null,
            "grid_auto_flow": null,
            "grid_auto_rows": null,
            "grid_column": null,
            "grid_gap": null,
            "grid_row": null,
            "grid_template_areas": null,
            "grid_template_columns": null,
            "grid_template_rows": null,
            "height": "auto",
            "justify_content": null,
            "justify_items": null,
            "left": null,
            "margin": null,
            "max_height": null,
            "max_width": null,
            "min_height": null,
            "min_width": null,
            "object_fit": null,
            "object_position": null,
            "order": null,
            "overflow": null,
            "overflow_x": null,
            "overflow_y": null,
            "padding": "0.5em",
            "right": null,
            "top": null,
            "visibility": null,
            "width": "auto"
          }
        },
        "f6e6c4c490e247908cda161e4998e7cd": {
          "model_module": "@jupyter-widgets/controls",
          "model_name": "ButtonStyleModel",
          "model_module_version": "1.5.0",
          "state": {
            "_model_module": "@jupyter-widgets/controls",
            "_model_module_version": "1.5.0",
            "_model_name": "ButtonStyleModel",
            "_view_count": null,
            "_view_module": "@jupyter-widgets/base",
            "_view_module_version": "1.2.0",
            "_view_name": "StyleView",
            "button_color": "#dddd77",
            "font_weight": ""
          }
        },
        "54a1c9bbc7cb4c5db888bdd4df39e48d": {
          "model_module": "@jupyter-widgets/base",
          "model_name": "LayoutModel",
          "model_module_version": "1.2.0",
          "state": {
            "_model_module": "@jupyter-widgets/base",
            "_model_module_version": "1.2.0",
            "_model_name": "LayoutModel",
            "_view_count": null,
            "_view_module": "@jupyter-widgets/base",
            "_view_module_version": "1.2.0",
            "_view_name": "LayoutView",
            "align_content": null,
            "align_items": null,
            "align_self": null,
            "border": null,
            "bottom": null,
            "display": null,
            "flex": null,
            "flex_flow": null,
            "grid_area": null,
            "grid_auto_columns": null,
            "grid_auto_flow": null,
            "grid_auto_rows": null,
            "grid_column": null,
            "grid_gap": null,
            "grid_row": null,
            "grid_template_areas": null,
            "grid_template_columns": null,
            "grid_template_rows": null,
            "height": "auto",
            "justify_content": null,
            "justify_items": null,
            "left": null,
            "margin": null,
            "max_height": null,
            "max_width": null,
            "min_height": null,
            "min_width": null,
            "object_fit": null,
            "object_position": null,
            "order": null,
            "overflow": null,
            "overflow_x": null,
            "overflow_y": null,
            "padding": "0.5em",
            "right": null,
            "top": null,
            "visibility": null,
            "width": "auto"
          }
        },
        "eef294391e5c45d78d6d8be87b6fb36a": {
          "model_module": "@jupyter-widgets/controls",
          "model_name": "ButtonStyleModel",
          "model_module_version": "1.5.0",
          "state": {
            "_model_module": "@jupyter-widgets/controls",
            "_model_module_version": "1.5.0",
            "_model_name": "ButtonStyleModel",
            "_view_count": null,
            "_view_module": "@jupyter-widgets/base",
            "_view_module_version": "1.2.0",
            "_view_name": "StyleView",
            "button_color": "#ffaaaa",
            "font_weight": ""
          }
        },
        "30272e66b373412fb26d2fb1d8f4f412": {
          "model_module": "@jupyter-widgets/base",
          "model_name": "LayoutModel",
          "model_module_version": "1.2.0",
          "state": {
            "_model_module": "@jupyter-widgets/base",
            "_model_module_version": "1.2.0",
            "_model_name": "LayoutModel",
            "_view_count": null,
            "_view_module": "@jupyter-widgets/base",
            "_view_module_version": "1.2.0",
            "_view_name": "LayoutView",
            "align_content": null,
            "align_items": null,
            "align_self": null,
            "border": null,
            "bottom": null,
            "display": null,
            "flex": null,
            "flex_flow": null,
            "grid_area": null,
            "grid_auto_columns": null,
            "grid_auto_flow": null,
            "grid_auto_rows": null,
            "grid_column": null,
            "grid_gap": null,
            "grid_row": null,
            "grid_template_areas": null,
            "grid_template_columns": null,
            "grid_template_rows": null,
            "height": "auto",
            "justify_content": null,
            "justify_items": null,
            "left": null,
            "margin": null,
            "max_height": null,
            "max_width": null,
            "min_height": null,
            "min_width": null,
            "object_fit": null,
            "object_position": null,
            "order": null,
            "overflow": null,
            "overflow_x": null,
            "overflow_y": null,
            "padding": null,
            "right": null,
            "top": null,
            "visibility": null,
            "width": "auto"
          }
        },
        "6dfbbc1868274cea98a69894b4e9da28": {
          "model_module": "@jupyter-widgets/controls",
          "model_name": "DescriptionStyleModel",
          "model_module_version": "1.5.0",
          "state": {
            "_model_module": "@jupyter-widgets/controls",
            "_model_module_version": "1.5.0",
            "_model_name": "DescriptionStyleModel",
            "_view_count": null,
            "_view_module": "@jupyter-widgets/base",
            "_view_module_version": "1.2.0",
            "_view_name": "StyleView",
            "description_width": ""
          }
        },
        "31fc90e84c184c229371759c261a34f4": {
          "model_module": "@jupyter-widgets/base",
          "model_name": "LayoutModel",
          "model_module_version": "1.2.0",
          "state": {
            "_model_module": "@jupyter-widgets/base",
            "_model_module_version": "1.2.0",
            "_model_name": "LayoutModel",
            "_view_count": null,
            "_view_module": "@jupyter-widgets/base",
            "_view_module_version": "1.2.0",
            "_view_name": "LayoutView",
            "align_content": null,
            "align_items": null,
            "align_self": null,
            "border": null,
            "bottom": null,
            "display": null,
            "flex": null,
            "flex_flow": null,
            "grid_area": null,
            "grid_auto_columns": null,
            "grid_auto_flow": null,
            "grid_auto_rows": null,
            "grid_column": null,
            "grid_gap": null,
            "grid_row": null,
            "grid_template_areas": null,
            "grid_template_columns": null,
            "grid_template_rows": null,
            "height": "auto",
            "justify_content": null,
            "justify_items": null,
            "left": null,
            "margin": null,
            "max_height": null,
            "max_width": null,
            "min_height": null,
            "min_width": null,
            "object_fit": null,
            "object_position": null,
            "order": null,
            "overflow": null,
            "overflow_x": null,
            "overflow_y": null,
            "padding": null,
            "right": null,
            "top": null,
            "visibility": null,
            "width": "auto"
          }
        },
        "27facc62100547e994532c7fa635db65": {
          "model_module": "@jupyter-widgets/controls",
          "model_name": "ButtonStyleModel",
          "model_module_version": "1.5.0",
          "state": {
            "_model_module": "@jupyter-widgets/controls",
            "_model_module_version": "1.5.0",
            "_model_name": "ButtonStyleModel",
            "_view_count": null,
            "_view_module": "@jupyter-widgets/base",
            "_view_module_version": "1.2.0",
            "_view_name": "StyleView",
            "button_color": null,
            "font_weight": ""
          }
        },
        "700ae09a176c46fe81a04a28b4121ae7": {
          "model_module": "@jupyter-widgets/controls",
          "model_name": "FloatSliderModel",
          "model_module_version": "1.5.0",
          "state": {
            "_dom_classes": [],
            "_model_module": "@jupyter-widgets/controls",
            "_model_module_version": "1.5.0",
            "_model_name": "FloatSliderModel",
            "_view_count": null,
            "_view_module": "@jupyter-widgets/controls",
            "_view_module_version": "1.5.0",
            "_view_name": "FloatSliderView",
            "continuous_update": true,
            "description": "Left Arm Reward Probability",
            "description_tooltip": null,
            "disabled": false,
            "layout": "IPY_MODEL_39a6bde43bad4092ba3758c7ecd2f9fa",
            "max": 1,
            "min": 0,
            "orientation": "horizontal",
            "readout": true,
            "readout_format": ".2f",
            "step": 0.01,
            "style": "IPY_MODEL_c2560a04645247df89b98094b9fcd13f",
            "value": 0.82
          }
        },
        "39a6bde43bad4092ba3758c7ecd2f9fa": {
          "model_module": "@jupyter-widgets/base",
          "model_name": "LayoutModel",
          "model_module_version": "1.2.0",
          "state": {
            "_model_module": "@jupyter-widgets/base",
            "_model_module_version": "1.2.0",
            "_model_name": "LayoutModel",
            "_view_count": null,
            "_view_module": "@jupyter-widgets/base",
            "_view_module_version": "1.2.0",
            "_view_name": "LayoutView",
            "align_content": null,
            "align_items": null,
            "align_self": null,
            "border": null,
            "bottom": null,
            "display": null,
            "flex": null,
            "flex_flow": null,
            "grid_area": null,
            "grid_auto_columns": null,
            "grid_auto_flow": null,
            "grid_auto_rows": null,
            "grid_column": null,
            "grid_gap": null,
            "grid_row": null,
            "grid_template_areas": null,
            "grid_template_columns": null,
            "grid_template_rows": null,
            "height": null,
            "justify_content": null,
            "justify_items": null,
            "left": null,
            "margin": null,
            "max_height": null,
            "max_width": null,
            "min_height": null,
            "min_width": null,
            "object_fit": null,
            "object_position": null,
            "order": null,
            "overflow": null,
            "overflow_x": null,
            "overflow_y": null,
            "padding": null,
            "right": null,
            "top": null,
            "visibility": null,
            "width": null
          }
        },
        "c2560a04645247df89b98094b9fcd13f": {
          "model_module": "@jupyter-widgets/controls",
          "model_name": "SliderStyleModel",
          "model_module_version": "1.5.0",
          "state": {
            "_model_module": "@jupyter-widgets/controls",
            "_model_module_version": "1.5.0",
            "_model_name": "SliderStyleModel",
            "_view_count": null,
            "_view_module": "@jupyter-widgets/base",
            "_view_module_version": "1.2.0",
            "_view_name": "StyleView",
            "description_width": "",
            "handle_color": null
          }
        },
        "26d5ab593e4549f3b104ce95afe42642": {
          "model_module": "@jupyter-widgets/controls",
          "model_name": "FloatSliderModel",
          "model_module_version": "1.5.0",
          "state": {
            "_dom_classes": [],
            "_model_module": "@jupyter-widgets/controls",
            "_model_module_version": "1.5.0",
            "_model_name": "FloatSliderModel",
            "_view_count": null,
            "_view_module": "@jupyter-widgets/controls",
            "_view_module_version": "1.5.0",
            "_view_name": "FloatSliderView",
            "continuous_update": true,
            "description": "Right Arm Reward Probability",
            "description_tooltip": null,
            "disabled": false,
            "layout": "IPY_MODEL_f10f2536ebf84645b3ec1f574bd337f2",
            "max": 1,
            "min": 0,
            "orientation": "horizontal",
            "readout": true,
            "readout_format": ".2f",
            "step": 0.01,
            "style": "IPY_MODEL_b2c97d47853c491e95f2da3681523067",
            "value": 0.6
          }
        },
        "f10f2536ebf84645b3ec1f574bd337f2": {
          "model_module": "@jupyter-widgets/base",
          "model_name": "LayoutModel",
          "model_module_version": "1.2.0",
          "state": {
            "_model_module": "@jupyter-widgets/base",
            "_model_module_version": "1.2.0",
            "_model_name": "LayoutModel",
            "_view_count": null,
            "_view_module": "@jupyter-widgets/base",
            "_view_module_version": "1.2.0",
            "_view_name": "LayoutView",
            "align_content": null,
            "align_items": null,
            "align_self": null,
            "border": null,
            "bottom": null,
            "display": null,
            "flex": null,
            "flex_flow": null,
            "grid_area": null,
            "grid_auto_columns": null,
            "grid_auto_flow": null,
            "grid_auto_rows": null,
            "grid_column": null,
            "grid_gap": null,
            "grid_row": null,
            "grid_template_areas": null,
            "grid_template_columns": null,
            "grid_template_rows": null,
            "height": null,
            "justify_content": null,
            "justify_items": null,
            "left": null,
            "margin": null,
            "max_height": null,
            "max_width": null,
            "min_height": null,
            "min_width": null,
            "object_fit": null,
            "object_position": null,
            "order": null,
            "overflow": null,
            "overflow_x": null,
            "overflow_y": null,
            "padding": null,
            "right": null,
            "top": null,
            "visibility": null,
            "width": null
          }
        },
        "b2c97d47853c491e95f2da3681523067": {
          "model_module": "@jupyter-widgets/controls",
          "model_name": "SliderStyleModel",
          "model_module_version": "1.5.0",
          "state": {
            "_model_module": "@jupyter-widgets/controls",
            "_model_module_version": "1.5.0",
            "_model_name": "SliderStyleModel",
            "_view_count": null,
            "_view_module": "@jupyter-widgets/base",
            "_view_module_version": "1.2.0",
            "_view_name": "StyleView",
            "description_width": "",
            "handle_color": null
          }
        },
        "978a1257b87347039762acc4a3125654": {
          "model_module": "@jupyter-widgets/controls",
          "model_name": "ButtonModel",
          "model_module_version": "1.5.0",
          "state": {
            "_dom_classes": [],
            "_model_module": "@jupyter-widgets/controls",
            "_model_module_version": "1.5.0",
            "_model_name": "ButtonModel",
            "_view_count": null,
            "_view_module": "@jupyter-widgets/controls",
            "_view_module_version": "1.5.0",
            "_view_name": "ButtonView",
            "button_style": "",
            "description": "Simulate!",
            "disabled": false,
            "icon": "",
            "layout": "IPY_MODEL_5fd7e61045804969bfa910ce0279bc43",
            "style": "IPY_MODEL_b79d2d1d49054e68b5dadc49d59d4eef",
            "tooltip": ""
          }
        },
        "5fd7e61045804969bfa910ce0279bc43": {
          "model_module": "@jupyter-widgets/base",
          "model_name": "LayoutModel",
          "model_module_version": "1.2.0",
          "state": {
            "_model_module": "@jupyter-widgets/base",
            "_model_module_version": "1.2.0",
            "_model_name": "LayoutModel",
            "_view_count": null,
            "_view_module": "@jupyter-widgets/base",
            "_view_module_version": "1.2.0",
            "_view_name": "LayoutView",
            "align_content": null,
            "align_items": null,
            "align_self": null,
            "border": null,
            "bottom": null,
            "display": null,
            "flex": null,
            "flex_flow": null,
            "grid_area": null,
            "grid_auto_columns": null,
            "grid_auto_flow": null,
            "grid_auto_rows": null,
            "grid_column": null,
            "grid_gap": null,
            "grid_row": null,
            "grid_template_areas": null,
            "grid_template_columns": null,
            "grid_template_rows": null,
            "height": null,
            "justify_content": null,
            "justify_items": null,
            "left": null,
            "margin": null,
            "max_height": null,
            "max_width": null,
            "min_height": null,
            "min_width": null,
            "object_fit": null,
            "object_position": null,
            "order": null,
            "overflow": null,
            "overflow_x": null,
            "overflow_y": null,
            "padding": null,
            "right": null,
            "top": null,
            "visibility": null,
            "width": null
          }
        },
        "b79d2d1d49054e68b5dadc49d59d4eef": {
          "model_module": "@jupyter-widgets/controls",
          "model_name": "ButtonStyleModel",
          "model_module_version": "1.5.0",
          "state": {
            "_model_module": "@jupyter-widgets/controls",
            "_model_module_version": "1.5.0",
            "_model_name": "ButtonStyleModel",
            "_view_count": null,
            "_view_module": "@jupyter-widgets/base",
            "_view_module_version": "1.2.0",
            "_view_name": "StyleView",
            "button_color": null,
            "font_weight": ""
          }
        },
        "a155a05a7cc54dada3db922891e92e46": {
          "model_module": "@jupyter-widgets/output",
          "model_name": "OutputModel",
          "model_module_version": "1.0.0",
          "state": {
            "_dom_classes": [],
            "_model_module": "@jupyter-widgets/output",
            "_model_module_version": "1.0.0",
            "_model_name": "OutputModel",
            "_view_count": null,
            "_view_module": "@jupyter-widgets/output",
            "_view_module_version": "1.0.0",
            "_view_name": "OutputView",
            "layout": "IPY_MODEL_dec14e7fe84e4d5b8ab41db7ef810089",
            "msg_id": "",
            "outputs": [
              {
                "output_type": "display_data",
                "data": {
                  "text/plain": "<Figure size 800x1200 with 4 Axes>",
                  "image/png": "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\n"
                },
                "metadata": {
                  "image/png": {
                    "width": 777,
                    "height": 1178
                  }
                }
              }
            ]
          }
        },
        "dec14e7fe84e4d5b8ab41db7ef810089": {
          "model_module": "@jupyter-widgets/base",
          "model_name": "LayoutModel",
          "model_module_version": "1.2.0",
          "state": {
            "_model_module": "@jupyter-widgets/base",
            "_model_module_version": "1.2.0",
            "_model_name": "LayoutModel",
            "_view_count": null,
            "_view_module": "@jupyter-widgets/base",
            "_view_module_version": "1.2.0",
            "_view_name": "LayoutView",
            "align_content": null,
            "align_items": null,
            "align_self": null,
            "border": null,
            "bottom": null,
            "display": null,
            "flex": null,
            "flex_flow": null,
            "grid_area": null,
            "grid_auto_columns": null,
            "grid_auto_flow": null,
            "grid_auto_rows": null,
            "grid_column": null,
            "grid_gap": null,
            "grid_row": null,
            "grid_template_areas": null,
            "grid_template_columns": null,
            "grid_template_rows": null,
            "height": null,
            "justify_content": null,
            "justify_items": null,
            "left": null,
            "margin": null,
            "max_height": null,
            "max_width": null,
            "min_height": null,
            "min_width": null,
            "object_fit": null,
            "object_position": null,
            "order": null,
            "overflow": null,
            "overflow_x": null,
            "overflow_y": null,
            "padding": null,
            "right": null,
            "top": null,
            "visibility": null,
            "width": null
          }
        },
        "954280dd9b5c4c2bb287fe069203b342": {
          "model_module": "@jupyter-widgets/controls",
          "model_name": "FloatSliderModel",
          "model_module_version": "1.5.0",
          "state": {
            "_dom_classes": [],
            "_model_module": "@jupyter-widgets/controls",
            "_model_module_version": "1.5.0",
            "_model_name": "FloatSliderModel",
            "_view_count": null,
            "_view_module": "@jupyter-widgets/controls",
            "_view_module_version": "1.5.0",
            "_view_name": "FloatSliderView",
            "continuous_update": true,
            "description": "Left Arm Reward Probability",
            "description_tooltip": null,
            "disabled": false,
            "layout": "IPY_MODEL_36439e19e02b4561a668c154152a3846",
            "max": 1,
            "min": 0,
            "orientation": "horizontal",
            "readout": true,
            "readout_format": ".2f",
            "step": 0.01,
            "style": "IPY_MODEL_dc9e3c27dbcc4dde95b825888af69c6d",
            "value": 0.2
          }
        },
        "36439e19e02b4561a668c154152a3846": {
          "model_module": "@jupyter-widgets/base",
          "model_name": "LayoutModel",
          "model_module_version": "1.2.0",
          "state": {
            "_model_module": "@jupyter-widgets/base",
            "_model_module_version": "1.2.0",
            "_model_name": "LayoutModel",
            "_view_count": null,
            "_view_module": "@jupyter-widgets/base",
            "_view_module_version": "1.2.0",
            "_view_name": "LayoutView",
            "align_content": null,
            "align_items": null,
            "align_self": null,
            "border": null,
            "bottom": null,
            "display": null,
            "flex": null,
            "flex_flow": null,
            "grid_area": null,
            "grid_auto_columns": null,
            "grid_auto_flow": null,
            "grid_auto_rows": null,
            "grid_column": null,
            "grid_gap": null,
            "grid_row": null,
            "grid_template_areas": null,
            "grid_template_columns": null,
            "grid_template_rows": null,
            "height": null,
            "justify_content": null,
            "justify_items": null,
            "left": null,
            "margin": null,
            "max_height": null,
            "max_width": null,
            "min_height": null,
            "min_width": null,
            "object_fit": null,
            "object_position": null,
            "order": null,
            "overflow": null,
            "overflow_x": null,
            "overflow_y": null,
            "padding": null,
            "right": null,
            "top": null,
            "visibility": null,
            "width": null
          }
        },
        "dc9e3c27dbcc4dde95b825888af69c6d": {
          "model_module": "@jupyter-widgets/controls",
          "model_name": "SliderStyleModel",
          "model_module_version": "1.5.0",
          "state": {
            "_model_module": "@jupyter-widgets/controls",
            "_model_module_version": "1.5.0",
            "_model_name": "SliderStyleModel",
            "_view_count": null,
            "_view_module": "@jupyter-widgets/base",
            "_view_module_version": "1.2.0",
            "_view_name": "StyleView",
            "description_width": "",
            "handle_color": null
          }
        },
        "0d2272ad48b94131bc87f5261454c7d6": {
          "model_module": "@jupyter-widgets/controls",
          "model_name": "FloatSliderModel",
          "model_module_version": "1.5.0",
          "state": {
            "_dom_classes": [],
            "_model_module": "@jupyter-widgets/controls",
            "_model_module_version": "1.5.0",
            "_model_name": "FloatSliderModel",
            "_view_count": null,
            "_view_module": "@jupyter-widgets/controls",
            "_view_module_version": "1.5.0",
            "_view_name": "FloatSliderView",
            "continuous_update": true,
            "description": "Right Arm Reward Probability",
            "description_tooltip": null,
            "disabled": false,
            "layout": "IPY_MODEL_f4b015525abd4983a0884fe1fe412048",
            "max": 1,
            "min": 0,
            "orientation": "horizontal",
            "readout": true,
            "readout_format": ".2f",
            "step": 0.01,
            "style": "IPY_MODEL_9a6eff1df7c242608fa83d6e779ac8b2",
            "value": 0.8
          }
        },
        "f4b015525abd4983a0884fe1fe412048": {
          "model_module": "@jupyter-widgets/base",
          "model_name": "LayoutModel",
          "model_module_version": "1.2.0",
          "state": {
            "_model_module": "@jupyter-widgets/base",
            "_model_module_version": "1.2.0",
            "_model_name": "LayoutModel",
            "_view_count": null,
            "_view_module": "@jupyter-widgets/base",
            "_view_module_version": "1.2.0",
            "_view_name": "LayoutView",
            "align_content": null,
            "align_items": null,
            "align_self": null,
            "border": null,
            "bottom": null,
            "display": null,
            "flex": null,
            "flex_flow": null,
            "grid_area": null,
            "grid_auto_columns": null,
            "grid_auto_flow": null,
            "grid_auto_rows": null,
            "grid_column": null,
            "grid_gap": null,
            "grid_row": null,
            "grid_template_areas": null,
            "grid_template_columns": null,
            "grid_template_rows": null,
            "height": null,
            "justify_content": null,
            "justify_items": null,
            "left": null,
            "margin": null,
            "max_height": null,
            "max_width": null,
            "min_height": null,
            "min_width": null,
            "object_fit": null,
            "object_position": null,
            "order": null,
            "overflow": null,
            "overflow_x": null,
            "overflow_y": null,
            "padding": null,
            "right": null,
            "top": null,
            "visibility": null,
            "width": null
          }
        },
        "9a6eff1df7c242608fa83d6e779ac8b2": {
          "model_module": "@jupyter-widgets/controls",
          "model_name": "SliderStyleModel",
          "model_module_version": "1.5.0",
          "state": {
            "_model_module": "@jupyter-widgets/controls",
            "_model_module_version": "1.5.0",
            "_model_name": "SliderStyleModel",
            "_view_count": null,
            "_view_module": "@jupyter-widgets/base",
            "_view_module_version": "1.2.0",
            "_view_name": "StyleView",
            "description_width": "",
            "handle_color": null
          }
        },
        "d1cfd24a360b451888c59a0ea2ecc606": {
          "model_module": "@jupyter-widgets/controls",
          "model_name": "ButtonModel",
          "model_module_version": "1.5.0",
          "state": {
            "_dom_classes": [],
            "_model_module": "@jupyter-widgets/controls",
            "_model_module_version": "1.5.0",
            "_model_name": "ButtonModel",
            "_view_count": null,
            "_view_module": "@jupyter-widgets/controls",
            "_view_module_version": "1.5.0",
            "_view_name": "ButtonView",
            "button_style": "",
            "description": "Simulate!",
            "disabled": false,
            "icon": "",
            "layout": "IPY_MODEL_0693964931f1462195411116f27380f8",
            "style": "IPY_MODEL_243d0026a5e249bfa7b633f1adbf3dc9",
            "tooltip": ""
          }
        },
        "0693964931f1462195411116f27380f8": {
          "model_module": "@jupyter-widgets/base",
          "model_name": "LayoutModel",
          "model_module_version": "1.2.0",
          "state": {
            "_model_module": "@jupyter-widgets/base",
            "_model_module_version": "1.2.0",
            "_model_name": "LayoutModel",
            "_view_count": null,
            "_view_module": "@jupyter-widgets/base",
            "_view_module_version": "1.2.0",
            "_view_name": "LayoutView",
            "align_content": null,
            "align_items": null,
            "align_self": null,
            "border": null,
            "bottom": null,
            "display": null,
            "flex": null,
            "flex_flow": null,
            "grid_area": null,
            "grid_auto_columns": null,
            "grid_auto_flow": null,
            "grid_auto_rows": null,
            "grid_column": null,
            "grid_gap": null,
            "grid_row": null,
            "grid_template_areas": null,
            "grid_template_columns": null,
            "grid_template_rows": null,
            "height": null,
            "justify_content": null,
            "justify_items": null,
            "left": null,
            "margin": null,
            "max_height": null,
            "max_width": null,
            "min_height": null,
            "min_width": null,
            "object_fit": null,
            "object_position": null,
            "order": null,
            "overflow": null,
            "overflow_x": null,
            "overflow_y": null,
            "padding": null,
            "right": null,
            "top": null,
            "visibility": null,
            "width": null
          }
        },
        "243d0026a5e249bfa7b633f1adbf3dc9": {
          "model_module": "@jupyter-widgets/controls",
          "model_name": "ButtonStyleModel",
          "model_module_version": "1.5.0",
          "state": {
            "_model_module": "@jupyter-widgets/controls",
            "_model_module_version": "1.5.0",
            "_model_name": "ButtonStyleModel",
            "_view_count": null,
            "_view_module": "@jupyter-widgets/base",
            "_view_module_version": "1.2.0",
            "_view_name": "StyleView",
            "button_color": null,
            "font_weight": ""
          }
        },
        "846b079124654a2180c472a8e9ec5372": {
          "model_module": "@jupyter-widgets/output",
          "model_name": "OutputModel",
          "model_module_version": "1.0.0",
          "state": {
            "_dom_classes": [],
            "_model_module": "@jupyter-widgets/output",
            "_model_module_version": "1.0.0",
            "_model_name": "OutputModel",
            "_view_count": null,
            "_view_module": "@jupyter-widgets/output",
            "_view_module_version": "1.0.0",
            "_view_name": "OutputView",
            "layout": "IPY_MODEL_917b2498b2c648bb9aa6da1aa73c5b98",
            "msg_id": "",
            "outputs": []
          }
        },
        "917b2498b2c648bb9aa6da1aa73c5b98": {
          "model_module": "@jupyter-widgets/base",
          "model_name": "LayoutModel",
          "model_module_version": "1.2.0",
          "state": {
            "_model_module": "@jupyter-widgets/base",
            "_model_module_version": "1.2.0",
            "_model_name": "LayoutModel",
            "_view_count": null,
            "_view_module": "@jupyter-widgets/base",
            "_view_module_version": "1.2.0",
            "_view_name": "LayoutView",
            "align_content": null,
            "align_items": null,
            "align_self": null,
            "border": null,
            "bottom": null,
            "display": null,
            "flex": null,
            "flex_flow": null,
            "grid_area": null,
            "grid_auto_columns": null,
            "grid_auto_flow": null,
            "grid_auto_rows": null,
            "grid_column": null,
            "grid_gap": null,
            "grid_row": null,
            "grid_template_areas": null,
            "grid_template_columns": null,
            "grid_template_rows": null,
            "height": null,
            "justify_content": null,
            "justify_items": null,
            "left": null,
            "margin": null,
            "max_height": null,
            "max_width": null,
            "min_height": null,
            "min_width": null,
            "object_fit": null,
            "object_position": null,
            "order": null,
            "overflow": null,
            "overflow_x": null,
            "overflow_y": null,
            "padding": null,
            "right": null,
            "top": null,
            "visibility": null,
            "width": null
          }
        },
        "ccb73503681d4230bb480add4e19f0b6": {
          "model_module": "@jupyter-widgets/controls",
          "model_name": "TabModel",
          "model_module_version": "1.5.0",
          "state": {
            "_dom_classes": [],
            "_model_module": "@jupyter-widgets/controls",
            "_model_module_version": "1.5.0",
            "_model_name": "TabModel",
            "_titles": {
              "0": "Youtube",
              "1": "Bilibili"
            },
            "_view_count": null,
            "_view_module": "@jupyter-widgets/controls",
            "_view_module_version": "1.5.0",
            "_view_name": "TabView",
            "box_style": "",
            "children": [
              "IPY_MODEL_fceefb8970f14746add8c6b2d257d799",
              "IPY_MODEL_3bb9e599f5634c33b0c6ecb1c6e25982"
            ],
            "layout": "IPY_MODEL_b365683a37f14105829b858c05958efe",
            "selected_index": 0
          }
        },
        "fceefb8970f14746add8c6b2d257d799": {
          "model_module": "@jupyter-widgets/output",
          "model_name": "OutputModel",
          "model_module_version": "1.0.0",
          "state": {
            "_dom_classes": [],
            "_model_module": "@jupyter-widgets/output",
            "_model_module_version": "1.0.0",
            "_model_name": "OutputModel",
            "_view_count": null,
            "_view_module": "@jupyter-widgets/output",
            "_view_module_version": "1.0.0",
            "_view_name": "OutputView",
            "layout": "IPY_MODEL_19eb541f95554351a6dab80c1a36436a",
            "msg_id": "",
            "outputs": [
              {
                "output_type": "stream",
                "name": "stdout",
                "text": [
                  "Video available at https://youtube.com/watch?v=chc457oVgbo\n"
                ]
              },
              {
                "output_type": "display_data",
                "data": {
                  "text/plain": "<IPython.lib.display.YouTubeVideo at 0x796b87cc8890>",
                  "text/html": "\n        <iframe\n            width=\"854\"\n            height=\"480\"\n            src=\"https://www.youtube.com/embed/chc457oVgbo?fs=1&rel=0\"\n            frameborder=\"0\"\n            allowfullscreen\n            \n        ></iframe>\n        ",
                  "image/jpeg": "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\n"
                },
                "metadata": {}
              }
            ]
          }
        },
        "3bb9e599f5634c33b0c6ecb1c6e25982": {
          "model_module": "@jupyter-widgets/output",
          "model_name": "OutputModel",
          "model_module_version": "1.0.0",
          "state": {
            "_dom_classes": [],
            "_model_module": "@jupyter-widgets/output",
            "_model_module_version": "1.0.0",
            "_model_name": "OutputModel",
            "_view_count": null,
            "_view_module": "@jupyter-widgets/output",
            "_view_module_version": "1.0.0",
            "_view_name": "OutputView",
            "layout": "IPY_MODEL_03cb7112f2ec44b6bee29119486fc745",
            "msg_id": "",
            "outputs": [
              {
                "output_type": "stream",
                "name": "stdout",
                "text": [
                  "Video available at https://www.bilibili.com/video/BV1o1421r7A6\n"
                ]
              },
              {
                "output_type": "display_data",
                "data": {
                  "text/plain": "<__main__.PlayVideo at 0x796b88e90210>",
                  "text/html": "\n        <iframe\n            width=\"854\"\n            height=\"480\"\n            src=\"https://player.bilibili.com/player.html?bvid=BV1o1421r7A6&page=1?fs=1&autoplay=False\"\n            frameborder=\"0\"\n            allowfullscreen\n            \n        ></iframe>\n        "
                },
                "metadata": {}
              }
            ]
          }
        },
        "b365683a37f14105829b858c05958efe": {
          "model_module": "@jupyter-widgets/base",
          "model_name": "LayoutModel",
          "model_module_version": "1.2.0",
          "state": {
            "_model_module": "@jupyter-widgets/base",
            "_model_module_version": "1.2.0",
            "_model_name": "LayoutModel",
            "_view_count": null,
            "_view_module": "@jupyter-widgets/base",
            "_view_module_version": "1.2.0",
            "_view_name": "LayoutView",
            "align_content": null,
            "align_items": null,
            "align_self": null,
            "border": null,
            "bottom": null,
            "display": null,
            "flex": null,
            "flex_flow": null,
            "grid_area": null,
            "grid_auto_columns": null,
            "grid_auto_flow": null,
            "grid_auto_rows": null,
            "grid_column": null,
            "grid_gap": null,
            "grid_row": null,
            "grid_template_areas": null,
            "grid_template_columns": null,
            "grid_template_rows": null,
            "height": null,
            "justify_content": null,
            "justify_items": null,
            "left": null,
            "margin": null,
            "max_height": null,
            "max_width": null,
            "min_height": null,
            "min_width": null,
            "object_fit": null,
            "object_position": null,
            "order": null,
            "overflow": null,
            "overflow_x": null,
            "overflow_y": null,
            "padding": null,
            "right": null,
            "top": null,
            "visibility": null,
            "width": null
          }
        },
        "19eb541f95554351a6dab80c1a36436a": {
          "model_module": "@jupyter-widgets/base",
          "model_name": "LayoutModel",
          "model_module_version": "1.2.0",
          "state": {
            "_model_module": "@jupyter-widgets/base",
            "_model_module_version": "1.2.0",
            "_model_name": "LayoutModel",
            "_view_count": null,
            "_view_module": "@jupyter-widgets/base",
            "_view_module_version": "1.2.0",
            "_view_name": "LayoutView",
            "align_content": null,
            "align_items": null,
            "align_self": null,
            "border": null,
            "bottom": null,
            "display": null,
            "flex": null,
            "flex_flow": null,
            "grid_area": null,
            "grid_auto_columns": null,
            "grid_auto_flow": null,
            "grid_auto_rows": null,
            "grid_column": null,
            "grid_gap": null,
            "grid_row": null,
            "grid_template_areas": null,
            "grid_template_columns": null,
            "grid_template_rows": null,
            "height": null,
            "justify_content": null,
            "justify_items": null,
            "left": null,
            "margin": null,
            "max_height": null,
            "max_width": null,
            "min_height": null,
            "min_width": null,
            "object_fit": null,
            "object_position": null,
            "order": null,
            "overflow": null,
            "overflow_x": null,
            "overflow_y": null,
            "padding": null,
            "right": null,
            "top": null,
            "visibility": null,
            "width": null
          }
        },
        "03cb7112f2ec44b6bee29119486fc745": {
          "model_module": "@jupyter-widgets/base",
          "model_name": "LayoutModel",
          "model_module_version": "1.2.0",
          "state": {
            "_model_module": "@jupyter-widgets/base",
            "_model_module_version": "1.2.0",
            "_model_name": "LayoutModel",
            "_view_count": null,
            "_view_module": "@jupyter-widgets/base",
            "_view_module_version": "1.2.0",
            "_view_name": "LayoutView",
            "align_content": null,
            "align_items": null,
            "align_self": null,
            "border": null,
            "bottom": null,
            "display": null,
            "flex": null,
            "flex_flow": null,
            "grid_area": null,
            "grid_auto_columns": null,
            "grid_auto_flow": null,
            "grid_auto_rows": null,
            "grid_column": null,
            "grid_gap": null,
            "grid_row": null,
            "grid_template_areas": null,
            "grid_template_columns": null,
            "grid_template_rows": null,
            "height": null,
            "justify_content": null,
            "justify_items": null,
            "left": null,
            "margin": null,
            "max_height": null,
            "max_width": null,
            "min_height": null,
            "min_width": null,
            "object_fit": null,
            "object_position": null,
            "order": null,
            "overflow": null,
            "overflow_x": null,
            "overflow_y": null,
            "padding": null,
            "right": null,
            "top": null,
            "visibility": null,
            "width": null
          }
        }
      }
    }
  },
  "nbformat": 4,
  "nbformat_minor": 0
}